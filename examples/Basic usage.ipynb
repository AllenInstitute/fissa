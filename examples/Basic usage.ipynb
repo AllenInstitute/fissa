{
 "cells": [
  {
   "cell_type": "markdown",
   "metadata": {},
   "source": [
    "# Basic FISSA usage"
   ]
  },
  {
   "cell_type": "markdown",
   "metadata": {},
   "source": [
    "This notebook explains step-by-step how to use the FISSA toolbox. See basic_usage.py for a shorter example script if one does not use a notebook interface."
   ]
  },
  {
   "cell_type": "code",
   "execution_count": 1,
   "metadata": {
    "collapsed": true
   },
   "outputs": [],
   "source": [
    "# FISSA toolbox imports\n",
    "import fissa.core as fissa"
   ]
  },
  {
   "cell_type": "markdown",
   "metadata": {},
   "source": [
    "Plotting toolbox import. \n",
    "Plotting in this notebook is done with Holoviews, for details see http://holoviews.org/."
   ]
  },
  {
   "cell_type": "code",
   "execution_count": 2,
   "metadata": {
    "collapsed": false
   },
   "outputs": [
    {
     "data": {
      "text/html": [
       "\n",
       "<script src=\"https://code.jquery.com/ui/1.10.4/jquery-ui.min.js\" type=\"text/javascript\"></script>\n",
       "<script type=\"text/javascript\">function HoloViewsWidget(){\n",
       "}\n",
       "\n",
       "HoloViewsWidget.comms = {};\n",
       "HoloViewsWidget.comm_state = {};\n",
       "\n",
       "HoloViewsWidget.prototype.init_slider = function(init_val){\n",
       "\tif(this.load_json) {\n",
       "\t\tthis.from_json()\n",
       "\t} else {\n",
       "\t\tthis.update_cache();\n",
       "\t}\n",
       "}\n",
       "\n",
       "HoloViewsWidget.prototype.populate_cache = function(idx){\n",
       "    this.cache[idx].html(this.frames[idx]);\n",
       "    if (this.embed) {\n",
       "        delete this.frames[idx];\n",
       "    }\n",
       "}\n",
       "\n",
       "HoloViewsWidget.prototype.process_error = function(msg){\n",
       "\n",
       "}\n",
       "\n",
       "HoloViewsWidget.prototype.from_json = function() {\n",
       "\tvar data_url = this.json_path + this.id + '.json';\n",
       "\t$.getJSON(data_url, $.proxy(function(json_data) {\n",
       "\t\tthis.frames = json_data;\n",
       "\t\tthis.update_cache();\n",
       "\t\tthis.update(0);\n",
       "\t}, this));\n",
       "}\n",
       "\n",
       "HoloViewsWidget.prototype.dynamic_update = function(current){\n",
       "\tif (current === undefined) {\n",
       "\t\treturn\n",
       "\t}\n",
       "\tif(this.dynamic) {\n",
       "\t\tcurrent = JSON.stringify(current);\n",
       "\t}\n",
       "\tfunction callback(initialized, msg){\n",
       "\t\t/* This callback receives data from Python as a string\n",
       "\t\t   in order to parse it correctly quotes are sliced off*/\n",
       "\t\tif (msg.content.ename != undefined) {\n",
       "\t\t\tthis.process_error(msg);\n",
       "\t\t}\n",
       "\t\tif (msg.msg_type != \"execute_result\") {\n",
       "\t\t\tconsole.log(\"Warning: HoloViews callback returned unexpected data for key: (\", current, \") with the following content:\", msg.content)\n",
       "\t\t\tthis.time = undefined;\n",
       "\t\t\tthis.wait = false;\n",
       "\t\t\treturn\n",
       "\t\t}\n",
       "\t\tthis.timed = (Date.now() - this.time) * 1.1;\n",
       "\t\tif (msg.msg_type == \"execute_result\") {\n",
       "\t\t\tif (msg.content.data['text/plain'].includes('Complete')) {\n",
       "\t\t\t\tthis.wait = false;\n",
       "\t\t\t\tif (this.queue.length > 0) {\n",
       "\t\t\t\t\tthis.time = Date.now();\n",
       "\t\t\t\t\tthis.dynamic_update(this.queue[this.queue.length-1]);\n",
       "\t\t\t\t\tthis.queue = [];\n",
       "\t\t\t\t}\n",
       "\t\t\t\treturn\n",
       "\t\t\t}\n",
       "\t\t}\n",
       "\t}\n",
       "\tthis.current = current;\n",
       "\tvar kernel = IPython.notebook.kernel;\n",
       "\tcallbacks = {iopub: {output: $.proxy(callback, this, this.initialized)}};\n",
       "\tvar cmd = \"holoviews.plotting.widgets.NdWidget.widgets['\" + this.id + \"'].update(\" + current + \")\";\n",
       "\tkernel.execute(\"import holoviews;\" + cmd, callbacks, {silent : false});\n",
       "}\n",
       "\n",
       "HoloViewsWidget.prototype.update_cache = function(force){\n",
       "    var frame_len = Object.keys(this.frames).length;\n",
       "    for (var i=0; i<frame_len; i++) {\n",
       "        if(!this.load_json || this.dynamic)  {\n",
       "            frame = Object.keys(this.frames)[i];\n",
       "        } else {\n",
       "            frame = i;\n",
       "        }\n",
       "        if(!(frame in this.cache) || force) {\n",
       "\t\t\tif ((frame in this.cache) && force) { this.cache[frame].remove() }\n",
       "\t\t\tthis.cache[frame] = $('<div />').appendTo(\"#\"+\"_anim_img\"+this.id).hide();\n",
       "\t\t\tvar cache_id = \"_anim_img\"+this.id+\"_\"+frame;\n",
       "\t\t\tthis.cache[frame].attr(\"id\", cache_id);\n",
       "\t\t\tthis.populate_cache(frame);\n",
       "        }\n",
       "    }\n",
       "}\n",
       "\n",
       "HoloViewsWidget.prototype.update = function(current){\n",
       "    if(current in this.cache) {\n",
       "        $.each(this.cache, function(index, value) {\n",
       "            value.hide();\n",
       "        });\n",
       "        this.cache[current].show();\n",
       "\t\tthis.wait = false;\n",
       "    }\n",
       "}\n",
       "\n",
       "HoloViewsWidget.prototype.init_comms = function() {\n",
       "\tif ((window.Jupyter !== undefined) && (Jupyter.notebook.kernel !== undefined)) {\n",
       "\t\tvar widget = this;\n",
       "\t\tcomm_manager = Jupyter.notebook.kernel.comm_manager;\n",
       "        comm_manager.register_target(this.id, function (comm) {\n",
       "\t\t\tcomm.on_msg(function (msg) { widget.process_msg(msg) });\n",
       "\t\t});\n",
       "\t}\n",
       "}\n",
       "\n",
       "HoloViewsWidget.prototype.process_msg = function(msg) {\n",
       "}\n",
       "\n",
       "function SelectionWidget(frames, id, slider_ids, keyMap, dim_vals, notFound, load_json, mode, cached, json_path, dynamic){\n",
       "    this.frames = frames;\n",
       "    this.id = id;\n",
       "    this.slider_ids = slider_ids;\n",
       "    this.keyMap = keyMap\n",
       "    this.current_frame = 0;\n",
       "    this.current_vals = dim_vals;\n",
       "    this.load_json = load_json;\n",
       "    this.mode = mode;\n",
       "    this.notFound = notFound;\n",
       "    this.cached = cached;\n",
       "    this.dynamic = dynamic;\n",
       "    this.cache = {};\n",
       "\tthis.json_path = json_path;\n",
       "    this.init_slider(this.current_vals[0]);\n",
       "\tthis.queue = [];\n",
       "\tthis.wait = false;\n",
       "\tif (!this.cached || this.dynamic) {\n",
       "\t\tthis.init_comms()\n",
       "\t}\n",
       "}\n",
       "\n",
       "SelectionWidget.prototype = new HoloViewsWidget;\n",
       "\n",
       "\n",
       "SelectionWidget.prototype.get_key = function(current_vals) {\n",
       "\tvar key = \"(\";\n",
       "    for (var i=0; i<this.slider_ids.length; i++)\n",
       "    {\n",
       "        val = this.current_vals[i];\n",
       "        if (!(typeof val === 'string')) {\n",
       "            if (val % 1 === 0) { val = val.toFixed(1); }\n",
       "            else { val = val.toFixed(10); val = val.slice(0, val.length-1);}\n",
       "        }\n",
       "        key += \"'\" + val + \"'\";\n",
       "        if(i != this.slider_ids.length-1) { key += ', ';}\n",
       "        else if(this.slider_ids.length == 1) { key += ',';}\n",
       "    }\n",
       "    key += \")\";\n",
       "\treturn this.keyMap[key];\n",
       "}\n",
       "\n",
       "SelectionWidget.prototype.set_frame = function(dim_val, dim_idx){\n",
       "\tthis.current_vals[dim_idx] = dim_val;\n",
       "    var current = this.get_key(this.current_vals);\n",
       "    if(current === undefined && !this.dynamic) {\n",
       "        return\n",
       "    }\n",
       "\tif (this.dynamic || !this.cached) {\n",
       "\t\tif (this.time === undefined) {\n",
       "\t\t\t// Do nothing the first time\n",
       "\t\t} else if ((this.timed === undefined) || ((this.time + this.timed) > Date.now())) {\n",
       "\t\t\tvar key = this.current_vals;\n",
       "\t\t\tif (!this.dynamic) {\n",
       "\t\t\t\tkey = this.get_key(key);\n",
       "\t\t\t}\n",
       "\t\t\tthis.queue.push(key);\n",
       "\t\t\treturn\n",
       "\t\t}\n",
       "\t}\n",
       "\tthis.queue = [];\n",
       "\tthis.time = Date.now();\n",
       "\tthis.current_frame = current;\n",
       "    if(this.dynamic) {\n",
       "        this.dynamic_update(this.current_vals)\n",
       "    } else if(this.cached) {\n",
       "        this.update(current)\n",
       "    } else {\n",
       "        this.dynamic_update(current)\n",
       "    }\n",
       "}\n",
       "\n",
       "\n",
       "/* Define the ScrubberWidget class */\n",
       "function ScrubberWidget(frames, num_frames, id, interval, load_json, mode, cached, json_path, dynamic){\n",
       "    this.slider_id = \"_anim_slider\" + id;\n",
       "    this.loop_select_id = \"_anim_loop_select\" + id;\n",
       "    this.id = id;\n",
       "    this.interval = interval;\n",
       "    this.current_frame = 0;\n",
       "    this.direction = 0;\n",
       "    this.dynamic = dynamic;\n",
       "    this.timer = null;\n",
       "    this.load_json = load_json;\n",
       "    this.mode = mode;\n",
       "    this.cached = cached;\n",
       "    this.frames = frames;\n",
       "    this.cache = {};\n",
       "    this.length = num_frames;\n",
       "\tthis.json_path = json_path;\n",
       "    document.getElementById(this.slider_id).max = this.length - 1;\n",
       "    this.init_slider(0);\n",
       "\tthis.wait = false;\n",
       "\tthis.queue = [];\n",
       "\tif (!this.cached || this.dynamic) {\n",
       "\t\tthis.init_comms()\n",
       "\t}\n",
       "}\n",
       "\n",
       "ScrubberWidget.prototype = new HoloViewsWidget;\n",
       "\n",
       "ScrubberWidget.prototype.set_frame = function(frame){\n",
       "\tthis.current_frame = frame;\n",
       "\twidget = document.getElementById(this.slider_id);\n",
       "    if (widget === null) {\n",
       "        this.pause_animation();\n",
       "        return\n",
       "    }\n",
       "    widget.value = this.current_frame;\n",
       "    if(this.cached) {\n",
       "        this.update(frame)\n",
       "    } else {\n",
       "        this.dynamic_update(frame)\n",
       "    }\n",
       "}\n",
       "\n",
       "\n",
       "ScrubberWidget.prototype.process_error = function(msg){\n",
       "\tif (msg.content.ename === 'StopIteration') {\n",
       "\t\tthis.pause_animation();\n",
       "\t\tthis.stopped = true;\n",
       "\t\tvar keys = Object.keys(this.frames)\n",
       "\t\tthis.length = keys.length;\n",
       "\t\tdocument.getElementById(this.slider_id).max = this.length-1;\n",
       "\t\tdocument.getElementById(this.slider_id).value = this.length-1;\n",
       "\t\tthis.current_frame = this.length-1;\n",
       "\t}\n",
       "}\n",
       "\n",
       "\n",
       "ScrubberWidget.prototype.get_loop_state = function(){\n",
       "    var button_group = document[this.loop_select_id].state;\n",
       "    for (var i = 0; i < button_group.length; i++) {\n",
       "        var button = button_group[i];\n",
       "        if (button.checked) {\n",
       "            return button.value;\n",
       "        }\n",
       "    }\n",
       "    return undefined;\n",
       "}\n",
       "\n",
       "\n",
       "ScrubberWidget.prototype.next_frame = function() {\n",
       "\tif (this.dynamic || !this.cached) {\n",
       "\t\tif (this.wait) {\n",
       "\t\t\treturn\n",
       "\t\t}\n",
       "\t\tthis.wait = true;\n",
       "\t}\n",
       "\tif (this.dynamic && this.current_frame + 1 >= this.length) {\n",
       "\t\tthis.length += 1;\n",
       "        document.getElementById(this.slider_id).max = this.length-1;\n",
       "\t}\n",
       "    this.set_frame(Math.min(this.length - 1, this.current_frame + 1));\n",
       "}\n",
       "\n",
       "ScrubberWidget.prototype.previous_frame = function() {\n",
       "    this.set_frame(Math.max(0, this.current_frame - 1));\n",
       "}\n",
       "\n",
       "ScrubberWidget.prototype.first_frame = function() {\n",
       "    this.set_frame(0);\n",
       "}\n",
       "\n",
       "ScrubberWidget.prototype.last_frame = function() {\n",
       "    this.set_frame(this.length - 1);\n",
       "}\n",
       "\n",
       "ScrubberWidget.prototype.slower = function() {\n",
       "    this.interval /= 0.7;\n",
       "    if(this.direction > 0){this.play_animation();}\n",
       "    else if(this.direction < 0){this.reverse_animation();}\n",
       "}\n",
       "\n",
       "ScrubberWidget.prototype.faster = function() {\n",
       "    this.interval *= 0.7;\n",
       "    if(this.direction > 0){this.play_animation();}\n",
       "    else if(this.direction < 0){this.reverse_animation();}\n",
       "}\n",
       "\n",
       "ScrubberWidget.prototype.anim_step_forward = function() {\n",
       "    if(this.current_frame < this.length || (this.dynamic && !this.stopped)){\n",
       "        this.next_frame();\n",
       "    }else{\n",
       "        var loop_state = this.get_loop_state();\n",
       "        if(loop_state == \"loop\"){\n",
       "            this.first_frame();\n",
       "        }else if(loop_state == \"reflect\"){\n",
       "            this.last_frame();\n",
       "            this.reverse_animation();\n",
       "        }else{\n",
       "            this.pause_animation();\n",
       "            this.last_frame();\n",
       "        }\n",
       "    }\n",
       "}\n",
       "\n",
       "ScrubberWidget.prototype.anim_step_reverse = function() {\n",
       "    this.current_frame -= 1;\n",
       "    if(this.current_frame >= 0){\n",
       "        this.set_frame(this.current_frame);\n",
       "    } else {\n",
       "        var loop_state = this.get_loop_state();\n",
       "        if(loop_state == \"loop\"){\n",
       "            this.last_frame();\n",
       "        }else if(loop_state == \"reflect\"){\n",
       "            this.first_frame();\n",
       "            this.play_animation();\n",
       "        }else{\n",
       "            this.pause_animation();\n",
       "            this.first_frame();\n",
       "        }\n",
       "    }\n",
       "}\n",
       "\n",
       "ScrubberWidget.prototype.pause_animation = function() {\n",
       "    this.direction = 0;\n",
       "    if (this.timer){\n",
       "        clearInterval(this.timer);\n",
       "        this.timer = null;\n",
       "    }\n",
       "}\n",
       "\n",
       "ScrubberWidget.prototype.play_animation = function() {\n",
       "    this.pause_animation();\n",
       "    this.direction = 1;\n",
       "    var t = this;\n",
       "    if (!this.timer) this.timer = setInterval(function(){t.anim_step_forward();}, this.interval);\n",
       "}\n",
       "\n",
       "ScrubberWidget.prototype.reverse_animation = function() {\n",
       "    this.pause_animation();\n",
       "    this.direction = -1;\n",
       "    var t = this;\n",
       "    if (!this.timer) this.timer = setInterval(function(){t.anim_step_reverse();}, this.interval);\n",
       "}\n",
       "\n",
       "function extend(destination, source) {\n",
       "    for (var k in source) {\n",
       "        if (source.hasOwnProperty(k)) {\n",
       "            destination[k] = source[k];\n",
       "        }\n",
       "    }\n",
       "    return destination;\n",
       "}\n",
       "\n",
       "function update_widget(widget, values) {\n",
       "\tif (widget.hasClass(\"ui-slider\")) {\n",
       "\t\twidget.slider('option',\n",
       "\t\t\t\t\t  {'min': 0, 'max': values.length-1,\n",
       "\t\t\t\t\t   'dim_vals': values, 'value': 0,\n",
       "\t\t\t\t\t   'dim_labels': values})\n",
       "\t\twidget.slider('option', 'slide').call(widget, event, {'value': 0})\n",
       "\t} else {\n",
       "\t\twidget.empty();\n",
       "\t\tfor (var i=0; i<values.length; i++){\n",
       "\t\t\twidget.append($(\"<option>\", {\n",
       "\t\t\t\tvalue: i,\n",
       "\t\t\t\ttext: values[i]\n",
       "\t\t\t}))};\n",
       "\t\twidget.data('values', values);\n",
       "\t\twidget.data('value', 0);\n",
       "\t\twidget.trigger(\"change\");\n",
       "\t};\n",
       "}\n",
       "\n",
       "// Define MPL specific subclasses\n",
       "function MPLSelectionWidget() {\n",
       "\tSelectionWidget.apply(this, arguments);\n",
       "}\n",
       "\n",
       "function MPLScrubberWidget() {\n",
       "\tScrubberWidget.apply(this, arguments);\n",
       "}\n",
       "\n",
       "// Let them inherit from the baseclasses\n",
       "MPLSelectionWidget.prototype = Object.create(SelectionWidget.prototype);\n",
       "MPLScrubberWidget.prototype = Object.create(ScrubberWidget.prototype);\n",
       "\n",
       "// Define methods to override on widgets\n",
       "var MPLMethods = {\n",
       "\tinit_slider : function(init_val){\n",
       "\t\tif(this.load_json) {\n",
       "\t\t\tthis.from_json()\n",
       "\t\t} else {\n",
       "\t\t\tthis.update_cache();\n",
       "\t\t}\n",
       "\t\tthis.update(0);\n",
       "\t\tif(this.mode == 'nbagg') {\n",
       "\t\t\tthis.set_frame(init_val, 0);\n",
       "\t\t}\n",
       "\t},\n",
       "\tpopulate_cache : function(idx){\n",
       "\t\tvar cache_id = \"_anim_img\"+this.id+\"_\"+idx;\n",
       "\t\tif(this.mode == 'mpld3') {\n",
       "\t\t\tmpld3.draw_figure(cache_id, this.frames[idx]);\n",
       "\t\t} else {\n",
       "\t\t\tthis.cache[idx].html(this.frames[idx]);\n",
       "\t\t}\n",
       "\t\tif (this.embed) {\n",
       "\t\t\tdelete this.frames[idx];\n",
       "\t\t}\n",
       "\t},\n",
       "\tprocess_msg : function(msg) {\n",
       "\t\tif (!(this.mode == 'nbagg')) {\n",
       "\t\t\tvar data = msg.content.data;\n",
       "\t\t\tthis.frames[this.current] = data;\n",
       "\t\t\tthis.update_cache(true);\n",
       "\t\t\tthis.update(this.current);\n",
       "\t\t}\n",
       "\t}\n",
       "}\n",
       "// Extend MPL widgets with backend specific methods\n",
       "extend(MPLSelectionWidget.prototype, MPLMethods);\n",
       "extend(MPLScrubberWidget.prototype, MPLMethods);\n",
       "</script>\n",
       "\n",
       "\n",
       "<link rel=\"stylesheet\" href=\"https://code.jquery.com/ui/1.10.4/themes/smoothness/jquery-ui.css\">\n",
       "<style>div.hololayout {\n",
       "    display: flex;\n",
       "    align-items: center;\n",
       "    margin: 0;\n",
       "}\n",
       "\n",
       "div.holoframe {\n",
       "\twidth: 75%;\n",
       "}\n",
       "\n",
       "div.holowell {\n",
       "    display: flex;\n",
       "    align-items: center;\n",
       "    margin: 0;\n",
       "}\n",
       "\n",
       "form.holoform {\n",
       "    background-color: #fafafa;\n",
       "    border-radius: 5px;\n",
       "    overflow: hidden;\n",
       "\tpadding-left: 0.8em;\n",
       "    padding-right: 0.8em;\n",
       "    padding-top: 0.4em;\n",
       "    padding-bottom: 0.4em;\n",
       "}\n",
       "\n",
       "div.holowidgets {\n",
       "    padding-right: 0;\n",
       "\twidth: 25%;\n",
       "}\n",
       "\n",
       "div.holoslider {\n",
       "    min-height: 0 !important;\n",
       "    height: 0.8em;\n",
       "    width: 60%;\n",
       "}\n",
       "\n",
       "div.holoformgroup {\n",
       "    padding-top: 0.5em;\n",
       "    margin-bottom: 0.5em;\n",
       "}\n",
       "\n",
       "div.hologroup {\n",
       "    padding-left: 0;\n",
       "    padding-right: 0.8em;\n",
       "    width: 50%;\n",
       "}\n",
       "\n",
       ".holoselect {\n",
       "    width: 92%;\n",
       "    margin-left: 0;\n",
       "    margin-right: 0;\n",
       "}\n",
       "\n",
       ".holotext {\n",
       "    width: 100%;\n",
       "    padding-left:  0.5em;\n",
       "    padding-right: 0;\n",
       "}\n",
       "\n",
       ".holowidgets .ui-resizable-se {\n",
       "\tvisibility: hidden\n",
       "}\n",
       "\n",
       ".holoframe > .ui-resizable-se {\n",
       "\tvisibility: hidden\n",
       "}\n",
       "\n",
       ".holowidgets .ui-resizable-s {\n",
       "\tvisibility: hidden\n",
       "}\n",
       "</style>\n",
       "\n",
       "\n",
       "<div>\n",
       "<img src='data:image/png;base64,iVBORw0KGgoAAAANSUhEUgAAABkAAAAZCAIAAABLixI0AAAACXBIWXMAAAsTAAALEwEAmpwYAAAAB3RJTUUH3wkCDDIOi3cusgAABT1JREFUOMtVlclvG2UYh3/fMovHe53FThySNHZomrRJl6QR0AJdpVblQBEHJC4ciipxAgmO3PgPEP8BQkIsRUJUSF1oqGih0JY2CtnjOLGz2Em8xPbMeL6Pw9RJOprLjPT+5tH7Pu83JE7pqeHh8wMD2evfyXMXf/nxB2FZo6dPNzVHvvr6GxMQeOEigARswNzzUgK6x8NagPzS0nqxODQ62nLn1xMnX99/eLC3sGVROj2/IBxHABKgANlzM4ACTuMRAOecNREiAWtzc0NIEu/M37zVMTWeqlrpUDg1M7NTVgdkowwvxqGRRV1CE8jOznq7uhYAi2CpXtdVVQE4QAAdCAAGwAAJyEa9Amh7PsAihBBAABrg1XUfpe3bxTXb8XR0WJa1VSzWGyAcUAEVoIAARIMOQH2HC4AA6lKW8/n9Pm/Ahl4zV8fGTg0PtzQ3K3tA3GId8AO+BqZLt8sFQKE0GouRSkWtFM63KV0Vy1rJhN44k56cFFI6exJ3MBWANACVHS63aw5QtutVVT/4xWfHv/0ylytmHvx56sIFLxACfIABGIAf8ANRn++9y5evXrkS0XWXd5dLJWRfOHwspA1tr4iFtP3gD8/apjCtSDiyQYhZKNA94wOQTCQPhfzm9FTJH8jn84Tz3SyPlEQ4vf0Dt5/MPE5vpVObzQbxqvaDdL731MnWnh5pmsxxdE3rTCZfO3u2FbL6+2+hzpcKwXA2ldrNUgAVII7TMXhkZnzcAQTgAWI6sgV7YmKivLra1tFxMJk4Ho/r5fLy3btsYS7JHL1YoeHQKldKhcLzLNcdlRDOWDgczuVyOtDt4yN9gRYVmc161TTLmYw9P9e8OHcU5dG2fa3EmhNyKjGwROmzZ8+YqlIAKsDd9jtOenIy1t8vgDJQtuvYrjRT0kMQBRIUQxqSXkSDUIO0YAulvdfxGk/u33eVZs2EeBvu6gCjtKW7Oz81xQBhI73mtATQn/BuZ6wTrezsYX+1Jn+aNR8sl9Zb47l4/O+HD2u27QDgnHUQwhvKuFmRaLS2tkZsmwJSQpqIUzHYyynndx5t/1Vy5gXyhMhorEJIKpViQB0QnFNlZzkbdExRhBAckIAFbFXFetkpg94er004WK6jCniamrRAYHlmxhXFtWTXVfW50SQYDjvVKm+YHVMR10G5VAGrcWAohkEVpbC1RRo7QN2mS0BzuQiJHziwMTurAwrgBTo95NVjnshb3XaF9q1MTM7VeWNv6kJQgAISYAAHuARUQAHA2NCZM35KJ27c6KA4YiBXJlpVro5bkaGN2mStsCy8gAXobpyU7iFhAgxQAB40jMHh4WhnJ6nVpsfGVjOZUQMhi40k9K1FqQZI4ogffd3k33GPobTb5kCIFmriEYjgnABao60KwD68eCnz5PH0vXsr4+OsVIpRvNmpnLvQEozRpm5vxAP107dx+RMlvGTcmw7Xle6DwZlsdbZY05qbAq2ta9msCkhAcM4+yv+3uFZWAA+gA5pEaUOUnpaMohb+/BK7+j76r4IliFoyAv9EjsZ4ZbMmyOKqmdvciiWTL4+OUsY8mkY554d7okGyciuHqgQFVIABlkJ9fV44FLFrz8ecuIZ3u6offzD1fSnFmJSgle35mzcdVQ1Eo23B4Eh7lJdWNgZGohM/r5QAjZEoaDzi0TfKPlFDV/KF35mqs0NN1v3iRrqqAT7Xbdti6UXPImKZaf5SQiUBtAIG0OVXXnmnDUJWb9nET7D8VPba7pAJTKRnxPUpI+v0BXlApZPrlgDaCTke1VqaaLZC/wesjSVVF5Ac7QAAAABJRU5ErkJggg=='\n",
       "     style='width:25px;height:25px; border-radius:12px;'/>\n",
       "\n",
       "\n",
       "</div>\n"
      ],
      "text/plain": [
       "<IPython.core.display.HTML object>"
      ]
     },
     "metadata": {},
     "output_type": "display_data"
    }
   ],
   "source": [
    "# Plotting toolbox\n",
    "import holoviews as hv\n",
    "%load_ext holoviews.ipython"
   ]
  },
  {
   "cell_type": "markdown",
   "metadata": {},
   "source": [
    "### Defining an experiment\n",
    "Define your inputs. All that's necessary to define are the image data and ROIs. \n",
    "\n",
    "Images can be defined as a folder with tiff stacks:\n",
    "```\n",
    "images = 'folder'\n",
    "```\n",
    "Where each tiff stack in the folder is a trial with several frames.\n",
    "\n",
    "Or the data can also be given as a list of arrays if not stored as tiffs:\n",
    "```\n",
    "images = [array1, array2, array3, ...]\n",
    "```\n",
    "\n",
    "For ROIs either a set of ROIs across all images should be defined, or a set of ROIs per image. \n",
    "\n",
    "If the ROIs were defined using ImageJ use ImageJ's export function to save them in a zip. Then, indicate the locations as a list:\n",
    "```\n",
    "rois = ['rois.zip'] # for a single set of rois across images\n",
    "rois = ['rois1.zip', 'rois2.zip',...] # for a roiset for each image\n",
    "```\n",
    "Defining a different roiset per image can be useful if you need to adjust for motion drift for example.\n",
    "\n",
    "Then, we can define out experiment:"
   ]
  },
  {
   "cell_type": "code",
   "execution_count": 3,
   "metadata": {
    "collapsed": false
   },
   "outputs": [],
   "source": [
    "# roi and data locations\n",
    "rois = ['../exampleData/20150429.zip']\n",
    "images = '../exampleData/20150529'\n",
    "\n",
    "# Folder where data will be stored. Make sure to use a different folder for each experiment.\n",
    "folder = 'fissa_example' \n",
    "experiment = fissa.Experiment(images,rois, folder)"
   ]
  },
  {
   "cell_type": "markdown",
   "metadata": {},
   "source": [
    "Previously analyzed experiments in the defined folder will be loaded, if they exist, and the next step could be skipped."
   ]
  },
  {
   "cell_type": "markdown",
   "metadata": {},
   "source": [
    "### Extracting traces and separating them\n",
    "Next, we need to extract the traces and separate them:"
   ]
  },
  {
   "cell_type": "code",
   "execution_count": 4,
   "metadata": {
    "collapsed": false
   },
   "outputs": [
    {
     "name": "stdout",
     "output_type": "stream",
     "text": [
      "Reloading previously prepared data...\n",
      "Doing region growing and data extraction....\n",
      "Reloading previously separated data...\n",
      "Doing signal separation....\n",
      "NMF converged after 1216 iterations.\n",
      "Finished ROI number 2\n",
      "NMF converged after 1055 iterations.\n",
      "Finished ROI number 1\n",
      "NMF converged after 1219 iterations.\n",
      "Finished ROI number 3\n",
      "NMF converged after 1187 iterations.\n",
      "Finished ROI number 0\n"
     ]
    }
   ],
   "source": [
    "experiment.separate()"
   ]
  },
  {
   "cell_type": "markdown",
   "metadata": {},
   "source": [
    "If you want to redo preparation and/or separation you can set:\n",
    "```\n",
    "experiment.separate(redo_prep=True, redo_sep=True)\n",
    "```\n",
    "(If you redo prepartion this will also redo the separation, to make sure these always match up)"
   ]
  },
  {
   "cell_type": "markdown",
   "metadata": {},
   "source": [
    "## Accessing results\n",
    "After running ```experiment.separate()``` the results are stored as follows.\n",
    "\n",
    "#### ROI outlines\n",
    "The ROI outlines, as well as the extra neuropil regions, can be found as in ```experiment.roi_polys``` as follows. For cell number ```c``` and tiff number `t`, the set of ROIs for that cell and tiff is at\n",
    "```\n",
    "experiment.roi_polys[c,t][0][0] # basic ROI\n",
    "experiment.roi_polys[c,t][n][0] # n = 1, 2, 3.... the neuropil regions\n",
    "```\n",
    "Sometimes ROIs cannot be expressed as a single polygon (e.g. a ring-ROI), in those cases several polygons are used to describe it as:\n",
    "```\n",
    "experiment.roi_polys[c,t][0][i] # i iterates over the different polygons\n",
    "```\n",
    "\n",
    "As an example, plotting the first region of interest plus its first neuropil regions:"
   ]
  },
  {
   "cell_type": "code",
   "execution_count": 5,
   "metadata": {
    "collapsed": false
   },
   "outputs": [
    {
     "data": {
      "text/html": [
       "<img src='data:image/png;base64,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' style='max-width:100%; margin: auto; display: block; '/>"
      ],
      "text/plain": [
       ":Overlay\n",
       "   .Curve.I  :Curve   [x]   (y)\n",
       "   .Curve.II :Curve   [x]   (y)"
      ]
     },
     "execution_count": 5,
     "metadata": {},
     "output_type": "execute_result"
    }
   ],
   "source": [
    "c = 0\n",
    "t = 0\n",
    "cell = hv.Curve(experiment.roi_polys[c,t][0][0])\n",
    "neuropil1 = hv.Curve(experiment.roi_polys[c,t][1][0])\n",
    "cell*neuropil1\n"
   ]
  },
  {
   "cell_type": "markdown",
   "metadata": {},
   "source": [
    "#### FISSA extracted traces\n",
    "The final extracted traces can be found in ```experiment.matched``` as follows. For cell number ```c``` and tiff number `t`, the final extracted trace is given by:\n",
    "```\n",
    "experiment.result[c,t][0,:]\n",
    "```\n",
    "\n",
    "In ```experiment.result``` one can find the signals present in the cell ROI, ordered by how strongly they are present (relative to the surrounding regions). ```experiment.result[c,t][0,:]``` gives the most strongly present signal, and is seen as the cell's 'true' signal. ```[i,:]``` for ```i=1,2,3,...``` gives the other signals which are present in the cell ROI.\n",
    "\n",
    "#### Before decontamination\n",
    "The raw extracted signals can be found in ```experiment.raw``` in the same way. Now in  ```experiment.raw[c,t][i,:]```, ```i``` indicates the region number, with ```i=0``` being the cell, and ```i=1,2,3,...``` indicating the surrounding regions.\n",
    "\n",
    "As an example, plotting the raw and extracted signals for the second trial for the first cell:"
   ]
  },
  {
   "cell_type": "code",
   "execution_count": 6,
   "metadata": {
    "collapsed": false
   },
   "outputs": [
    {
     "data": {
      "text/html": [
       "<img src='data:image/png;base64,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' style='max-width:100%; margin: auto; display: block; '/>"
      ],
      "text/plain": [
       ":Overlay\n",
       "   .Curve.Raw            :Curve   [x]   (y)\n",
       "   .Curve.Decontaminated :Curve   [x]   (y)"
      ]
     },
     "execution_count": 6,
     "metadata": {},
     "output_type": "execute_result"
    }
   ],
   "source": [
    "c = 0\n",
    "t = 1\n",
    "hv.Curve(experiment.raw[c,t][0,:], label='raw')*hv.Curve(experiment.result[c,t][0,:], label='decontaminated')"
   ]
  },
  {
   "cell_type": "markdown",
   "metadata": {},
   "source": [
    "## Exporting to MATLAB\n",
    "The results can easily be exported to MATLAB as follows:"
   ]
  },
  {
   "cell_type": "code",
   "execution_count": 7,
   "metadata": {
    "collapsed": true
   },
   "outputs": [],
   "source": [
    "experiment.save_to_matlab()"
   ]
  },
  {
   "cell_type": "markdown",
   "metadata": {},
   "source": [
    "Loading ```folder/matlab.mat``` will give you three structs, ```ROIs```, ```raw```, and ```fissa```.\n",
    "\n",
    "These interface similarly as ```experiment.ROIs```, ```experiment.raw```, and ```experiment.result``` described above. However, Matlab counts from 1 (as opposed to Python counting from 0), such that the ROI, raw trace, and decontaminated trace are all found for cell 0 trial 0 as:\n",
    "```\n",
    "ROIs.cell0.trial0{1} % polygon for the ROI\n",
    "ROIs.cell0.trial0{2} % polygon for first neuropil region\n",
    "fissa.cell0.trial0(1,:) % final extracted cell signal\n",
    "fissa.cell0.trial0(2,:) % contaminating signal\n",
    "raw.cell0.trial0(1,:) % raw measured celll signal\n",
    "raw.cell0.trial0(2,:) % raw signal from first neuropil region\n",
    "```"
   ]
  },
  {
   "cell_type": "markdown",
   "metadata": {},
   "source": [
    "## Sidenotes"
   ]
  },
  {
   "cell_type": "markdown",
   "metadata": {},
   "source": [
    "#### Finding the tif files\n",
    "If you'd want to access a specific tifffile for a specific trial you can get its location as"
   ]
  },
  {
   "cell_type": "code",
   "execution_count": 8,
   "metadata": {
    "collapsed": false
   },
   "outputs": [
    {
     "data": {
      "text/plain": [
       "'../exampleData/20150529/AVG_A02.tif'"
      ]
     },
     "execution_count": 8,
     "metadata": {},
     "output_type": "execute_result"
    }
   ],
   "source": [
    "trial = 1\n",
    "experiment.images[trial]"
   ]
  },
  {
   "cell_type": "markdown",
   "metadata": {},
   "source": [
    "#### Mean image data"
   ]
  },
  {
   "cell_type": "markdown",
   "metadata": {},
   "source": [
    "If you want to get the mean data of a trial you can find this in experiment.means:"
   ]
  },
  {
   "cell_type": "code",
   "execution_count": 9,
   "metadata": {
    "collapsed": false
   },
   "outputs": [
    {
     "data": {
      "text/html": [
       "<img src='data:image/png;base64,iVBORw0KGgoAAAANSUhEUgAAAQQAAADzCAYAAABg6GgfAAAABHNCSVQICAgIfAhkiAAAAAlwSFlzAAALEgAACxIB0t1+/AAAIABJREFUeJzsvX2MZVd57vlUHaq73EV1t7vVxmqn2yb+gHwxGAyJ/2AiIiJFjpXkRrEiko6Mkyj2pR0lCnE0URIUNZo7SNd/I3AyijCgFlImCokEQhnhRERDkMFXMCIDbude3B0bY9OmP6iiqo9O9fyxz1Prt569zqnmJqTh9Hml0qm999prr732Wu/H877vWguXL1++rDnNaU5zkrR4tRswpznN6XuH5gxhTnOa0zbNGcKc5jSnbZozhDnNaU7bNGcIc5rTnLZpzhDmNKc5bdMrrnYD/j1pYWHhajdhTnP6vqBJ0QYzxRAk6Y/GvyOcW44yW+PfJUkbks6h3H5JeyTtQj0bcf9g/LuI4404vzWuX+P6BuM/33NxXObS+Hh9XMcQZVbG97q9iraMxm1ewrN5zu+0gnuGktbGzzOtje9jHVvjdrgfXB/L8H1Wxm1bQxs3x+WWUMdg3AafW8f/bJ+/35ZKn7Af+H2XxmX8HXyOZdz/fpbbkM/mPRuoj89mf3ts5VhwOaEs2z4c/0nd+/rZvneXurHh5/r9R7iP/c/39PVLjfYvSvpvmkwzxxD8gYbqOmNRpYP8gdyJI9UD1scuL9znc7zGQcuP48nEwTfANde5GfUOcI3vszr+3+/jOi7hHv+a+bQmsOvYGN87xDW+10DdgFzGO22grI8HKv3NgUxmwzawvM/tVhnoJjMkU8uuHagw0xF+/X/ek+d34zzfnc9lO/M6n9liKh4TroPtmTaJl+O8n+c+4rkWtZgg25hjO2mOIcxpTnPappnTEFIlTMmXHJCcnHWkZBWOrZb7miUyy26pMws0LrulTipZBadJ4t9N1dJ9Zfw/JcIK3snvsgv/D8fHqW1Yalulp8q6iGcp7nX7llWr1JY8NGGsUVCNtrbk61bT3R6bBJdwTCm4qFrLk4pUz2+Z35qmSUuS26yj1Gf/s08p7VnPIK5TE1mMctQo2W/UJrMeH1sjG8V97F//Tw14oP74nkYzxxA80Kxej1Q66JK6ycJBTvJA3FCZsFL/w7p+ThzWtTb+TWZC1dhquQfxyrgODrgl1UQVUPEupiWV93YbbD5JBatg+zxJOZGpxuY7SIWhsK1L6swb17OuPjZh2oNzLaabTIWM29+U7fPz3T5+H6l8z1T5+W1b/U3m6nN8J48pXjexrxL7MVNm2ZzwxhGynaQ0iTl2zQRZ5yVNp5ljCPzQ5ty02y+pDDYPPH6sFgjDidt61lA1Q3Cdvr42roMDzh/L962iveT4y6oHBScG272EewhsjSSdV2FSliJbKthEDhozJmsFfhal8h71B/pgfP4Q3nsTZQiSZbv5TmQSLYbBd5UKA+M5M9YEgFv1UCNoSVT2TzINqW5fApd5XepraAaOU/q7Pqkw/9Ryt+J/MhE1yu1qXCPNLEOQ+hPT3DwBHKqGVos5KIi28zlpMqSXgRqEJS4/NFXNXSqq/yTQyB97Ccc5mT1Rfe6iauTfzGs/6klVmeBfDuYECAniun/NEFZVPDisi4PfzIfSn0Cf/2+pvX42JwCZKcl1pCrOe9ITJJU+WcU5Mlx6ilr1mVr9mJ4LttuMu8UMJwGEBB79zBzL6TFLmjmGkB4Fqe74NRU3nAcIVTtL0kR7N3A+B4E/BG3/RZSx6un/1fh/TWVSZtvJaFLjcZs4gddQ5ny8o5/BfnC9HHye4O7Pc+pMAKPzy+qr01vjet2HK+omkvvOmpJU99805Jtmksul7T+pT7Oelgk3qaxU4yZk7olnpHRfUs2Uk9wHxFZWVDPupBbzOKc+Y6NAoQbbYoQtmjmGYPIkbrkJL8U5Sk+6jaQyWcjBbY6ka4zcneaAcQkCPmmqmKFwoKeEsAlB6ZqT2fdeQB3UKlxmt0o/rIyPPVjW8L8xGUubTdRDe5VSy2WWJe1VPZGtsfk+xxwk86SUMx5Axp0MOaVya+AnEGltYCuO+ew0EUb4k2oN1G1Zj3NZr9tC7VDqvkOaTsnsqBHa9ZpmA8cCBdOV0MwxBH5MTnBe84D1YGeAiNQfBAn+JOdPrMIDqQVg+ZwHDQFCS9j0XycoxwGwK8pcUK1VbMYxJ4HV4D3qJi4litV/awT0brANvmePCqjoew6Nj39gfHxe0kuSXlAxJVyPtRUzSU9cMpqczDT90lRoSWdqfQQrqSnRY0NTLxmA25nXTZPAVLa/dU+OPfaHPUEMpMu4FKmMbws2YkE70TwOYU5zmtM2zZyGkADTkvoRbaZEyQnKZPgpVdp0V7ru5O6L+LU0Yj3pvrL6R3BvKY4pjYh8J8jle3ar5vrEH/wexjyodtNL4/L7VbSoVM2XJB2QdKOkw+NzN+2WdIu2VZHrX5AO/WsNwEqdtpQSLF2GW3GN/U0pSR88NYcWRpJehgQUpdp9LZVvlJGrdPVRO229U5oCl/A+LS8G22ZPgtRpAnQ9X1Jt0hl/acVJTKKZYwhJLXV/I64xQCcnqnEIH+9WNykMqkl9V1Ui/1Ktlpo4SDnRGS5M5uOBRrWYdrlpP/4/F+2XCgjZCrxxvUkeqHvjvOMJDki6XdJrJQ1eNT55u6QjkvaNj89IKxvSnm+UUwY4OZDX8L+ZHVXlnDgG8cgYDNSlBylzL5j3sRW/6Xr1+zPXwnY8KU1U5iG4LW43j3MM8dyyur5Orw2/vQWI33FT37kJMHMMgSi2/eImdx4ZQQbxZKSccE3qOnm36km0J+6hBJHqgWky52Z8ANspFQCRDItRbouSzqqOcUhJ4EFNbYJeCaloJyT6vX1MBuZcB/fvYUk/KGlws4qKsDqu2CGb65LOF7vW7z1QAUF9C/sy3a0mvqvrYz8QKJX6TM82Ob/NUAVbSSDQ91miu/wu1XEfGWSUngj3a3pJWpoO41Q8zs6Oz9kLxGcTl/K7bcW5aTRzDIED1p1BpsCP6XL0eVticWCx/Ej9YCW74zgoW6jyUtzj57texwjspOYyfmJZNaqdkjK1BzJJtiWfS6bEdtItu09FG7lR0nVWjV4anzyDCiXpBen0sLtMhrUHz/Z3Oz8+9gDfpTJRLe2T+bWAXH7HDBe2Gk43oOMiSJx0rQCfBDzJFHxM05XnSGmypFZn04nh7xQQKcgytNnPnUZXnSE8/fTTuv/++3X27FkdPHhQjz/+uG6//fZm2a985Su688479c53vlOPPvposwxf2FoCJzw71OmhqeLlRM6P5I/ATL8MXlpRLYWdZZieCJNtdKmemGlKLKkewBdVh6/ShSfVmorbZaJ6nd4MT4wM4T4w/t+BVIzp+PZQWv7XUu9Z1SHEa+qYwTnVfU4Nao9qrYgqMidCajQ2pXbjmGSMhOp5hj8nM7C3JRluK4+iFV/Be3LcpeaSodXWXF3uospYzYhXtjeFl+ufFHORdNUZwkMPPaTjx4/r2LFj+vCHP6wHH3xQn/rUp3rlRqORHnzwQf3CL/zC1PoyFiCJUtodNYjjVN2IEVDt88enyih1kizzG/yx+MEc5OTn8JdlCOQR1CQAOsmtRLPG9UllrQKpLaksgQmucgLZJek+uID3s3TPnImWieR+MWOhFuDf1kCnz94BT5xAvk4MgbiP25rxIvy9qCI0ErfZjbIUOjRxOM7YNrcrvznf09qO6zDjp/mXYzPjVlzHUtwzja6q2/HFF1/UU089pbe//e2SpLe//e166qmn9NJLL/XKvve979W9996rO+644z+6mXOa0zVDV1VDOHPmjG666SYNBh2PGwwGOnz4sM6cOaNDhw5tl/vCF76gT37yk3riiSf0nve8Z2qdySFb0s9l1qPMhmqV2ufo2mmZFZfG91GKpFq5O+5jQI/bkiHJVjWZGsxQYEuvgQpKb3WUYc2JO/gZKQ2oZVj6LzeuSQX5t8S9OH4HegzORhlqSPlsal7EM/aov+CK3Za+x23cp9oNKtxraZlIP/9fVK1tUTvwfdYgWa9Uf9dJgDTNCUr2/MZuEzUyalJpMmQ/tJ6fnpRJdNVNhp1oOBzqt37rt/QXf/EX24xjGlF9ysGxpG7gUo3msV1IqYZJfWCOGMJyHBuks+rsOrikVa6HwPh3I+5SDRpZ9bNanRiDy/vdfE/mZeRgo9vOZaSaOdozkUlHF1UTXXI2O9bi2F4a18v+dp2bOF5UN9nTXZwqeK7pwG/iiZpgcU721q8ZhYnqfzLKXPosnyUVIZQ2fq6AReZk9+uayvcnBiS8LyMXCYK77dPoqjKEI0eO6LnnntNoNNJgMNBoNNLzzz+vI0eObJf52te+pn/5l3/RPffcI0k6d+6cLl++rAsXLuixxx7r1ZnBNQlALakM9HNxnZM/NQLFtQQMCUiNVEAgqUwm2v+e6BxY9ivTQ+Br/iXm0ZIIHmzpvUg7dWnCOZNtcJ/zOpN0eXopNqnuR7d3VbWf3oM+Ue8cpDnJPMgz45Tv7fYmNkHNg89dVH+yeAIS+/A7p0aYad8cO4l7+H+OD2tYvt8MY5KXxP87V8LvQIaWXineT6E0ja4qQ7jhhhv0+te/XidPntSxY8d08uRJ3XnnnZW5cPToUX3jG9/YPv7TP/1Tfetb35roZUj/NjnxSPUgz4jDjSinxi/dh9QiCBK5fA5sflxORqmAUIxwa6mfF3AvJydBLpIlMplMK/OS7Xd8AYE7t919mRGL+b/r4TlKXj8r80k8ufw+HvT8jntUT8gW8OiJkpOuhbyn5KZWwYnLdppSU2B/5eRMc4mT354GjiEyQC7ukwF1JjN5CiKP09QmJtFVNxne//736/7779eJEyd0/fXX6/HHH5ck3XPPPTpx4oTuuuuu76g+MgR3nj9SLr6RE9mDj0iuVAaGVAYWP5bdbwwikWru3JISGfVn6UQmkVIxE3Q86XgPVeNUyVdwvlWn2+1AJGIfHIA+pgvUk8B958mUuAWjLaVaKtsFmcwzMQ/eT+1kklGZdUr9Ccuy/rXJk8ye37Hl4ZnEDEjEEJJ5Jv7lsWlvjlTGdobDUzvMOISdMISFWdoOfmFhQe/GsSegOywBwpE6W9U2O6UzQZiULPmxvFy6J7iXEeOHS1XN/ndKXq85QE2FUYUJSHKZ9pwQlHIrjeezjFV7hldbE+J7em0FvxPVbUpWxw6QAZr8PSjlcjm6zHWwpCfz2YrrrivPUUNg4JLbwBiDDfyZ7J6luzTfa0399uYy95yYOcZWVaJN00QwuZ0UGC2GQPPF75Rj/m90De3LYKLayQmUtuRulYnAD0mUOj+UVTAONq8pIJVUYA7QxbhnpDpqkgCXy7hdZE6UlKyTwGlKm0S3Lbnp4z44oQ56ZDiRTdS2UsPxNU9kg6/0inhQ85tkrIi1BjJEfo9cGctlaJNnuLa1GQPNJmo9xjtYLzUhqQ7DlgoGlEFPeZxeBjX+p4BqxXC4jSYzqlZ8BpneNLqqcQhzmtOcvrdo5jQEc8yUCFKJ/CJ3H6m46MztiTuk+9Fk16JUNANea0U7MrPOqijxDUuEzFWgn7m1OQulpwFBStOWdLWmoPhf4/sdC+D3PqCSeCQVyWON6pLKDkS5fmOq9ynJpRrzaJlJLJveFWtbPOc66XVK6cux4jJMxfZYoDnksZHmG7WhNGGsae3kNE+Qlx4E5lKkVpnu4gQVfZ9UZ5W2aOYYAieLP45t+1QrWygtfbpS2Ushs9nSR58A0Hpcp+tR6oM9S6qRdb8DXZWui+saOliJz6aq75wDqpYeFHwHTlS7Y1dVchcOjp/rvlyU9HVJz42PX1ZfHbXtzcCv9Py0wsvdbqmeXETn2XdW8wmoGZDNOBL/2i2cQT7297teTkCpb964nKIM62bgE4keG/e/x0fmdOT/rXrzHf3/hurAtWk0cwyBXNnxARx8CbAZuPP1lpRmenEivH5WaiPp887JktzcHHxVNUMgwObgm2wbn5e+dEs8ajN+T0rllPZG12nDHlANPE4Kesq+yjZyAplZub2Od+BEZYCNj/08t9+U9n5SZgOmx0h49kX1J2oyKtrrUkm5XlIBV1tgHwPOFnHMoKN06Vq7TXclNdHUgP2brs5JNHMMga4+q5I5YBhhKNWqoz9ecltOfk/M5MRUZak62gvAGIDWx7OK6zK7cZ7tJYNrqcoZXMMEKU68DKZhXW6bB7WXNWDcANF310EgzNoKTao029IMcP+m5sBEH08KprXvUZ2w5W9PpkEPwiRwLUHGlhbhdvI4V7CmWUGtw/e03JLUAsgA+JzUWMisUoNwfXnPNJo5hmDyAEq7jeq1OzDtsxyMiyqDxO6vHCQcsJbqVBmtsqWNy2f4fg+u1l4QlAgcQCn5XMea6gFOaZEh0NQGrEVkABBxB+IkNl/YprS3B7ieA5RaGrUgpx+nCs5Jtld925j2v5/t9/dzaIYIbcs4hBxHk1yDriNXgMpy9takBkCPhl2Z7MuRamYyaNSRq1G7D65ZhkB1lO46qXxwSxbjDKbzKhMz1U2qjPZn52DggLVEMmV0YV73zk37VSaDI/LI+VPzyFBXU2u9AJeziUBbOcNxzRiZh+BNYFgPcQhKbKlgBmnzSn1glK5Waj5kstQmvAaFVOMUwn1sr/sxNQipjk3YUI3/GFjNUGV+6+xL/2VIPJl3ywzZijJuk49b9j+D11xnmrUtBjyJZo4hpP2dg3SkDgCT6kAVHycXlmqzg1F3fCYBQ6+mxMG4Ffcx+MdlCChJRcqllBCOLSk52bhRi1Tboy2En/iBy/s3g2NM6Vffr8JErHnYrKKJw4nsc2kiZBtbtrM9LvkeZKbUphL48zljJT5m+6wB0fS4hD+pfFsyyjQrPM74Xhlx2gqjJtMw80+As4WftOIUaIpMo3kcwpzmNKdtmjkNwZywtfDolvrIecsbQLXLXLgVy85koLTfWsCRNQk/mxGGlm4pKal5OP011WziHtQo1LjOXZEocfP9dkqCsdZBkNEJUa4rYy3c5gQeV6KM4zhc76W4xyYP0XWbUwn+0jNBzcl9Qq0nPQouQ5NgoJLWznvYljQJUrK7zpZ0p0dpOOW6/09TImM+0qtwzbkdU8XNNf35ETZVB6+sqwykRKHTbcMVfTNUuIWSJ7hjzIB4hmMViH2kxyBxAzMw2pxkaFb72e4W/jFQf5k1migJguVEd7kMCydlSrafRdC2NYg90RNUpBrsfmOZ1nqZ7Muh6rZkvf6O9A4l8zSzaqnrPpd7YLYYmuL/bJufmzEYrl9RnkST55pzO5LDerBlgAglLD8mkXPek9ur+T6eG6re9mygkjRFNyTR9FXV+Qq5xXpKFms0aW/y3Tz5E0OgtpRRnIldrI7v8c7RUh8EXYpfAmOT7FADYAO1E6n8HrnAiMuxvcwhcN9tqdZYqBFsqF6jwm3hZCG+o3H5jKFoLZDacolSO0ltMZlnRh+6/QRX/Sz+uo5JOAnH9TULKubHzY+3oiKNWr5o+6rp220luPD4ooo7UioTi5mAKWE9COgCNIjouj2AU83NPHl6SwwwcnDn5LK6z0nNYzMvuwBNVJ2tIaR6TcrUbCP7HKC5d4InMeMbzNAmTQRfI3hq/7vryZWdGBjE/sxYgFYwVUpufkf/z/a2JDf7mwyC5fwOvjaK+1LqT0qgSvNlGs0cQ0i6qFqScOCml0GqXTUu00Jmec4Di7EKWTZ93JaEVM/9S9cTJa5V4pwYvH9R9YIoZA5uS2pOPt8awOkuzSi5af3EGAXf4wlOSZgmXTK8If53W8kY0+PjsnSl+rnpmWiFQZta3gEzkkmovZkIzch8R9fNe7msXJZzHY6LSA2R75KmXMYz7KQpzBxDSJ833Up2g/EaO482ZDIRUy4+IZXYf+ZBcJDyQzO9mlgFfemU7lxU1W3OeAdjH77OXY5agCij6XguJ0a+e9rHZLa7VaQj2+s1G3yPB2fa7XQXX4pjLp7id3J9rsNqO4Fep6677cQCWJ4StuXH57MYScoyyaSpWbkNGXKd34U5M7nGQosylNvCjozCbW0xmxbNHEPgZLGqSV9/SkaqWf7YLbCMOxeZu3PgE8AaqR//ME2imNJkMANLxJ9+fd+Xq+ZktuBiHHP9BmowUvEOUMJuql5Dkba522Jpy0lEBpbrEbhMTrwWur7TgKYEdfs4URfVX3otGUBqEQP1J3F6FVpmUppaNvtSSKTJk4wwiR4MoW079U0LXJ1E8ziEOc1pTts0cxpCrn1IjYCgllTsUAJyF3G/VGx91mv1M4Eac+E0GYRy5OZ0MbbsVd9D9yaphSI7wzMz6Uh7VK8UxbUYfGxJbRNnpHq5MZPbdlEFXOXSbJROGeosFRONOz7zGValWy7PjFxcVJ3mm+g+NQZGnvqbZ0Skv4ddj3w220K8gDgPx0y6YBO78DFNyhaImuYjx1N6N2yCMIR7J21i5hgCVbvWQEoAi5u0St3gSN9/eghYn9QPKV5WmRymXVHGdW7hOq9JbbWUg5yDMEOq6dLiO/M8V07OYzMDZgemi5ZtTbeZVBgTB+O66gQzRRkPYDLbFvibyL7b5sm9pn5eAifDovrfzc9LF2FOIjK5FuOX+kFq+f1zhWX3f4KIvO7nebx6wdVWPIOfm671nWjmGAKTh6wdTLKfhqoloycb02QNuE2a/KyLlNKpFct+TjW+YeIgm+YmMqi4J85REnqSZ53c8MPvm4toZFQn4/yzDyg5MziIy74n9uKYCH6jxBByA9d8N2teyXAdeCaVNSFzF6lW3Afb7/Yw8IsRp25PRo3meGgtspvrcFBLylwGtyMxJ1IrIrIFDk+jmWMIdINZ7WLHU9UfxfFF9QedVA/gDBUlTXK7LamgxmQAS6r940vqFiFJj8Ekl5EHH5+bg8ImUboYU1vKd7KpQk1Jqvs3ATn/pX/dtNEo04oITaaQTM6T2PVbC+CuUa4r3Y6Z0TmNkfv9yWxSGpOZCWV43qBifheOtXPqMzW21+/P7zRUe5vB1rtM0mSSZo4hmIbqMvCIPEu1fW2bi5y5lXmXUsTliGAnt07/v9VeD97dqvdzHKmk/nKdAk4O7wDM6Dmr2Js4x1wA18u9IuhelQru4Dpse1IFzQnRCnZqhWznRHDsBZleTkx+Dz6b7aUNTmZk8oTjt+eE2sQ9k5D3ZCZSP4jL/08yy6R6bUNfZ1vXVK/lyHIt70YyoGmTPVdd3snLMHMMoRU/4E7g5p1S9yE4kQngjVAm7WAzgOTmJEon24s2P1yPcGzthTaiPybDbXmvQUmnc7PdBM84AK02UxqltsDFUluDlERGlC6zSS7ExHEydDclZW6vbnCTJkrLnMjwbf5ygk2ywVkv341amb8BQVyXyXiJJDKnoWrpn0xjEoaVJk6aK1nPTjSzDMGIM+MMUtoPVG/2yrIcQLTvXJZBL1INImY+hFXI9HFzMLawgo3G+ZSklk581kj9FXso4Wym5GKtDHBpodGc9DQdfE8yU0toSsxWKDCPzQz4Tdwel3GuQz6P/2ew0JL6u0ind2ikejctajNUvXep3kw3MQTFPclohurXae9X4iNJ6XmgyeDx2/oOvGcazeMQ5jSnOW3TzGkIiaZTI2DUHcsmaEd/ewu9ttmQi7OSMtvNqnrG9bdcRZYOVj+p0aTP20SMw5iA3yVDeo1LUKtgXIKvJeCXeRVuk+u1xKK0zDrSPLE2kNLbZA2BEp4mn8lSmlKX3yTR9jSZhOu+z6bKSP0sVR+vqFb3GbHJ8bWpOmyaz6ELmhpkK3w5oy9J9JzwXMapTKOZZQgejNlBGajECWebmQi2PxJDdX0fzQf6zq1WUm33ZPGzqHK6LWYQXIo7zYGBaj++GQjfMdFoDmjXwWAVmg5SB8Y6ZoADMvcIbAXopDdDql3BLa+I1DclOHHNnNKkcRmDdovjtvvZBHt5P981n8l6Hd+xS6WP9krah3fwxE1Kr00yKzJcM5EcpzbleD8nt59vShOI56aZpqSZYwhcaMO/KUlzchO9TiAtj8lpGUzEyZPSU6olXasM/cyTXHueUBzMBkrZxvR4cDDaj76kOn4hkeqM+0/3VQ7ORN55bhqynZiBaQPXE7XPRCYGd7keLjxjWlLBCNK1KJX1HxbjnoGK9uRdrWjrJ07itiRIKJRhAtqk6EF6Lzx+UsNKQJbYivuo5QGZRDPHEKZRSp/0IJAhpFeh9dFSuk1iQgOUXYnzSYlgc/+HbP9+tdX6ROhtEpCG6mcPclDvH7fDHgxqRr6fx6sqLk6+C/uBfZogXGv5cLeJ38P30NxyO+iJSEm4pE6yM+nrnPrgHvewsDbGWBa3hwxLKu/NlHb3nU0dTsZl9c2kdHen98QaWmo0POa3Z0zHlXoaZo4hTEOepTqcdV2FKUilc2n7psnADDmqfNzaPT8CVWV/vMyGXNRkaUqtIn3rNh/I1DhItlQPLE82h1dr/H578Y77VNvJUtnFiIObmsdIRUJT+jJEd5fqFY6lMgHT325ylqWfyXvdXmsiNGla2EXu22jtgCg9TUF/N29r52fTROM3lspqWZkzw+fwHfhe1LIcMNdS8WkGcZy5fAZ1JSOfRjPHECh5rD4N41xqBIx0y0hEh79y4E8CJVuqulT7/VkPbUSDcXtwzjslmXl4sFHD8TGBsFZQEfvAIB4TaS6qrxYvq+zt6InLwZjkyU/3awaGLanGVkYqS7a53lYILlVl9quPieGYqNlZqruMGRyfZeZpHMJ9Rcm9WwVo9DOoQXD9CWtlue6i22OyJkLBkyaHn8VUdwaZuU6C2TSxJrlAk6662/Hpp5/W3XffrTvuuEN33323Tp061Svznve8Rz/yIz+i173udXrjG9+oT37yk1ehpXOa0+zTVdcQHnroIR0/flzHjh3Thz/8YT344IP61Kc+VZV585vfrHe9613as2ePvvCFL+gnf/In9bWvfU3XXXddr75WMIbJST1e/NQhoy2TgapaC1Tk/1Y9kyMbwDKQt6HatUfJYvuVYKX/p/Rk6LUjG9MdaFeYULYFhnLJtwQRTYyapAbfe3i8AAAgAElEQVS0ofay5myLNaAEcdOepSfFIJj3lKR2kFoD/09tcCnKW81vfUtqGtQqrH3ZxHJb6eVx2xPEpPlnLcP9kus7UrvLvskFaTg27TnxscduaoM7Lb1OWrh8+fLl76D8vyu9+OKLuuOOO3T27FkNBgONRiMdPHhQp06d0qFDh5r3XL58Wfv379eXvvQl/cAP/EB1bWFhQf/b+H8PTGbxbajbvpxgD207MhN3sjt8miplVdn37FE3aA6Oj/epLCXmwWcbfXfUQbI96/Pe82DSDsRSWU/xHMqQ6dnWJ+DnwUu3Y6LpLsc1IC+p7FHAgZlMme5Nx0lwMi6qXoU5My+N9aTJ4F8Df3x2MrdN1clP/qYDFROB7+k6XM5l0mQy0+AS9lb3PfHPqcYvzJzYFofCczI7Q9Nlsl+ZlSu116tI4SZJn1U3j1p0VTWEM2fO6KabbtJg0H3OwWCgw4cP68yZMxMZwuOPP65bb721xwxMniweoB4IUveBNlWvuswO4//JmdPmo23soCOCXuuqbfK0K9Mn33JJKo4TkbdEIYC1rnohkpdUDz5PtPRlM6DIEndd9dLy6TXgRLiEX/fZOdVEbCPzGZbimJLWmh2JbbEWQo+RJ9ekZcYYcpxaRe6UTfJGtIkf7cJ1g4ipjUyT1MQF1Pg/Y2X4bIKurWdkktQ0uuomw3dC//AP/6A/+ZM/0d/93d9dUXl/BHYmpcQkn24yCRIHYT7LROBKqtHqjNJL8I9lMmCotaiGXY+UHrmABwcJ1WtOumUVVZgeEO5aTbPCYKwHpYGzjPJseVs44R0hmVpaelZWVDMF9iMZjX+ToaeLeKC6D1wPQeaWG3Nd0iHUQ6bs9qfp4X6icGEcRcvLkAzMjDYBQo67LdVgJDXMZFyT6KoyhCNHjui5557TaDTaNhmef/55HTlypFf2M5/5jI4dO6aPfexjes1rXjOxTqqMdll5YuY+B63klnQnmTxwkoFIfSTdz/eHdhKSffVS357kJLF0p/vLxylBkvmYqdCPzwhJTjS6SRmn4IFErSXjATKGw/cRBc9BbQbI0Gov8OJ+ySXsOMGY9s1+YDxCSs8sl/Z1Rv6lJ8CeiZfQ3pGKCeHxxMVaWrEKGdtCJmIcouUyZBkfJ3NrvZ9UmEHiL9PoqjKEG264Qa9//et18uRJHTt2TCdPntSdd97ZMxeefPJJ/fIv/7L+8i//Um94wxum1kk/t0HDxAZyAEyT9pPO0bZPv3P6s+1iTGnE9RwNMqZaTpU202k5uV+FMn53qbguuepQC3ClK9DLq3PAGbAj4NaS2py4PsdVm5gKrnEdBxrl009vVd1lcmIQvHT7EsBsAcX+Nj5Ht/NGo7wns80h7rwlld2e8tkEZK2lsj3OniUjz/sz5iFXhDZRi02hslPo8lUFFSXpy1/+su6//35985vf1PXXX6/HH39cr3nNa3TPPffoxIkTuuuuu/SmN71JX/3qV3XTTTdt3/ehD31IP/ZjP1bVtbCwoN8a/2/ptaYCfJlB2MuQKu2kqK5WsBB9/wxWkoo9bhV8VdIt6gY+wSfGIdgeX1GRPp5cOTHJiA6oAy8P4NxQZcA+P/4/1XhqMB7AHNytvIRpE8zqddr7RLmpwvpZBDDdPraX0Xy55iO1QYYgkwim2qQxsR1SicegbZ4TN00bA72ceNbS3L+r4z9rGefVX56OXhq3LQUIQUapr+G2Yh3S87Mh6TP6HgUVJem1r32tPvvZz/bOf/zjH9/+/8knn/yPbNKc5nTN0lVnCN8tGqloCQR8KNlbGMK0+oR7KaknhYMyy88SKsum3zpVw32qpQalwIqkGyXduqRKRbj8fClzSP3NUzdU25vc+JTvm5gFtaAW1mIzyPe03GDWenzeWATBNKP0UukPujztisxnp5ZA82sY1zwWGDbN/SRJjCHI7+e22+Tygjvst1TTrU1Re9lSrY2kp4nnJgHdk96D/bKTyTBzDCFRYamexFIbRFRcy3vzA/G+VMsMntHG5xLbUtkOPv38tGlTdXfIsemwpFsXJd2Gky91bTF/WFU9wc6hnZNW5Wn58m3iZFJP9h9djemxYbAQVXX67H2d278x70Bq52e4HoJwuVMzmSlDfhOLEI7NqHNnrAxEYl/ZW0EvQrZF6k/wxDgyLLklTNKEJBDsPpgUWNeimWMInOweNPwQBPvyWnYm62OZdFcxyCWf4XvSZeSPxMVP8z7bvMQH+JyhT8Jwv/CNDjfwgN0/vt/BWJk8w7YkZZw/F291HewnD0hO0OzvBB1zUtj+tsQ9oD7Q6onLOBAvmupncxt7oXxL08sclJY2wMVwMqhLaC/d2nQXc00Fb2BDj01rkVUyUAsZfhNrY4ztcP/52PcSDJ5GM8sQpCJJmGTi5BSXJbreQodb0p+DXypzkhrIbtWSfUl13WY+LmMJnLn4VO1TOi9K+uZQ2vuVApT+d0nPoo5XqaQyuy3rKgt7ul5ODLr3TCnhEolvSZ7WIMxnud9y8xbWwYnvcwwXtnl4XnVYsIOV2Ga6IweqAU2fZyTomrq+oit4N8oQRPQ9qVU6QpUp1NRwzMhS66Rb2dfTTLqkAkK7Lxmo5HF3pUlLM8cQkhyFp/Fva6muFtdcjP+p9poTp5ch60t8gIPNHoVEp+lustrZMiukbvB/XR16bU/KC6oHztdVFpuVas9Ky33J93HMgFQGJN8pmUBGeeb5ZKo+l/gFJ7LbminS/HX5XHSEUtltZ5sdTr4c5yhxneXZirdw+3erCBZmq7IeptmbGXBhlkyP9nMuoUyaeNa+GLuRXoYrDUgyzRxD4C5B7hx36m71OWVy6rw3mQXjBRKgmRSHYOnA/REGOCcVbYb1tCQH/2cKMwcbgUjjB3Q7+Vl8N0o9alD5jtPMi1beBye/sYCUfAQVk2yPWzK7DZ5EPs6l2dOdmWtfWPVnHoTxFuEeS38y+QzqkuqIzuyj3EDG44s5NiZGN15ULRxsslHzSoGRJiW1lyuhmWMI+8a/XFiD6umKyiTiBPbvTihsdr7PJRpvdVQqyU5csSfNA9dHaWVfdgagEE22ishJ5wQb10nJ4n6hLb877jHIl8FBVD2JjPvY2tgkYNahtbkQa/ZdxhgMVXtfrGkR2ExAdr8KcKvG+zhUOxmAIyelssYCGY3bSI3LG91KhelQ67GGlkw6vR4Zzej6pNLX/NbZNo8fbtDb0man0ZWaFnOa05yuAZo5DSHj/hNQuahabSeXTpeTz9Gut7qbHgmq/JY+BnssrfxMtpXotVVT1pP3SO0kH7rb0q9vqSsVCUMJdRDXfA9XUzIlOJjnUjXNBKMl/E2TRETFrS20ohBNBCbdZ5byXPui5X5jZKVVcptxdA1Pct3ZFGF9rpMoP+/JY74j78nMxvRQtUzdVt4Cx+o152XgEuYe9O442/AJSi3GPXlOqgd7uh7TlvPSY2YIdp1lTAGxCk+SJdUhxInsp7/bwBfL5KDI3IicXN5olJmM6dGw/c44Aaq4Buik2vXHthAbIdhFsHJR9Tfi92DocuIb6Zr0RDVjo6nkNnK9Aj9rgHuYF5NqOpkcM1TJ5CcxsQRHW8wmJ7uZiMPDfS7NlwyI8rhsxee0aOYYAl/YNiI7N5ce98CR2h8mtQHfl5oHF1n14iivwnEmwSyrYxi0pdP1SO+EqRWPn4k+6S4cqq/x5MBwarif4XsmxSp4YDJAJ+MoNtSXSG5/TmZiIMRSVlXAvU3UwXeiNuh2nhuXz8zLRVxnRKVUJrrPm2GQ8WXeioFSRn363SdFpSbDZlwFx2oukJLeIcX/xFX8vNReW+5h0swxBPqZPaGoYi3j2AizB4n3VsjJzjLpUpLKRE5Aiwk8bhNXTPI5Piej0zhZUu2jaUDpzKXAPbBy4KT2wfoJRGWQDl2UBBBX1GkRqdFkYlAL6GX9nKhSMQPoVTCDZj+kRkFG7+ewbz2xU4pnAJTvpaTOKFhOUgcY5cTjt3dEZar+ZDwZakxm0BqDbhvfgWBiMsRJNHMM4ez4lxKZkpuTxZtypO3bcgOZPElyeXG6uA6ptmdt31LittxslHouwxiC9FU7lJgmg9tm29kBSC0ziVKOg2ePahcfy5gy5r4Vaell13OykpKx+B35/byAiiV2Tohlde9Lk4+ov9SfuC2Xqp/HVbVTEJjIjFKyp4nUYr4kuse5WlNqrH5WMpt08yaREU5y75pmjiHQ9r2obnCzE7gAqd1k/li7VQJa0p0m3GMJxY1O9uDYbjxKIzMmSsaWSu1rfgdOxBXVexuQGVB9nrRPosmDze21qs0cihV1A9SA46JqFTzV3lZgTfadJza1KQc/cXLTRFtV35X5stqL47YkufvSmhPJTD3dq7TxU1NyG6mttcwpagRZL9ucx6k1UFNIpk4ThO+UbSFdsyYDuSkHOu1T26Xs4ATlRmovgMpzDoLhGoqUlsYybNO5Xv468CYHDYOX9qjep8GDfqgaKSdarXhnqtH8vyU5qOVkLobrT196q6/Y3wynlcpETtMpJXKus7gbdZjBZfyCv6fby+tcpYnt9/N5zPYleJk2vQPOpLofyJz4DF8zU+YzMzEpmY+zVBOYzjGWAm0azeMQ5jSnOW3TzGkI5IotP22CjGknthYylerl0i3tqeYSRDRSzjgEqfZNW8Umd/eCo6x3RSX60tInVU3a6edU25+W2iZK6wQnec8WfvmslIZ0F1rL4XVfk+rFVKnusr9Tlab5wASjc6q/o5OQKGFpOiUo6udkCDqT1FyWadUMv/YxNadFXEtPQuIM08xFX2fbvL/HNGoBnhzj1xyGQDJwxsHX8imbWgk7DKaR2vH4nrg0TfarAxelku46UklDlroBvDvq2IP7DknaCz/p2fU6wMbtorstVedWzoKvZyi0yXVw/QOXn+SZMDOgap9eEjNjxjkkMs5NaqQOBzL2wv5Nxu44A5oInIRpw5vZkYnwWqtNbBffMd24OfmW1N+cxff6eW7HJIBwmu1PEycFRsbI7EQzxxCmBV4YwKIEIELPD8LJPop7LKlXUYZA05LqeAdqAq7fqdhMox2oYwq3uA2vVscVvj6u99k6bt6SaU21z9zP5DtyoDmQhpIsk2aSMmnHoJn7gGsLpifElJ4E10P7eqS21CbTY11JaZtzsnBi+H0nAbu+f5Jkzb7I5xNUHKktmVm3vUNMUqNbtNXG1GTMfFNDyT03ptHMMYSkRKjtIpT6QTqeuInUJtf15LcpwIw5H3MSOrGG7rSMR1gct2uPpIHVhoG6vObx6pxOc2ZkHTd8dT3Cc4Yq4JOv+1lUn8n0PPky+IeUGZNMBCJRW+H/lPapFvMbuDw32DED5iIwjLKcRNTIyAyoReQeEYwgldrIfuu9ExzeinOcuK3l32wucNk432dajHMep3TLehy22t2imWMIk1RlNc77f3Zy2rST4gZS8nEQ2+bMCUa1txVc4kG6NnaEr5zpTn51XPh5df52D+BJawB6yzSpxD9k6DXb4GenhybbNwkld53EHlxn4iZpdhDH4HMyhNzvItXMwecX1ZljZpYOMjPZtdlC7YnZZKTnQHWbLUDIs3kPvzPjR4Q2uw6m6ifD8bnMzOX4nRQjQc3Dmsokxp40cwxhWoixO5luITKEVohna9C4HqrAK6oHdU50DypKPnLzZZzzoD632dVp3MGTi9F+fjaflSosgT6pBCvRfMnJninXxCv8fiPVKq4HMCcC09CthbCedNu1tJWBSgq51PXPBZUJRhOIGkva9YxFGKo/OSZhKtQiUjBY0vPeHDN8L6lmDNNoqPLtaLJNYtKJQbg9LLeThjB3O85pTnPappnTEHIbNHL75O4GW1qRai2zQSoaQiK3rc1IkxuP1F8V2M++pG77eEdY8lleZHVRZak0qR3ZZkAztYZUXxNkZAQkVViq/75mYsagn53oPzM0qZFRkrcWGE3vT4aC0yVnjYrLjOWu0ta+qNo7eSjXkGyp5/mOk8Lb6cmilsPfVnKZgepJ2ATXZMycDpP7l+ZHtiH7OWnmGIKJvleTs/N2oUx6BxKlN8iUKck5IKzWSuXj8iO4bponyUQuRJtHKlGQfjbb5lyMlklDO3NJNVqdjNFMipMnYxDSb26wlgxtv2oAlnkQbDfb14o7EK4vo5zbk6sfkfH4fCvScb9qhuCt6PzerfUb3JZJAsL9kqHGScSUWq5KP49Abz7Lz2N5UiatUQhk9OIkmjmGYDtzqOLG8YSih0GqYwtMnqiZ/8DJ6IHHCT9QmeAHVU+oRRVvgD9W5swTv6C0b03EVrvJjFbjGgE2D0YyP0tTDpoMQvJ14g6cKJTYpkyIMgMmDpK/Ge9gKejAI5fNtu1S953cBoKvppzIBgDdd14QJWMkqGmkq9rPOIfjZKZ+ts85T4TCJ4Fft4NjKHESYjLCNYapZ8j5NccQqO5tqZawRn8zMCl91RlRR/MgA39MLGOQzsyJA2TSs32O4NFL6j7qfpRx8InbYo2AGg0HjdH19KQQzGsBZaldpeRdjus0h3bHeZflIrM2NV5Sf4InE/G3ZGoz1WUyt1Ywke+h94RRqtQIMjjNblCuxEQPgifuEq4bTKUXgPVS20nK8UCm5nGVGhc1GS7Q0hqn15yXIdXrTIqhWpYIt70AGdzBD5j2Iv/nTs4ZoSfVMRG+zo/rc/6glsLncL9UZ/l5kHBSZ0BNTrZEwCel1QrnJrm4TF6cg9LIzNST3xP5QNzLtnsQT2tLmjT02VtLs8SlBsN6WxGBriMn7kj9MGhiIJTS9ARQuqeZlJ6gFA7ZDy1TJDNDXY5jbJqW1KKZYwiZktwCDN2BuVLSomr/stSP8zdxElpicFBwWS2r+bSvzZhoK7oMBz7j110fl163D5zSsmXvpoRvDTCqsMkgBnEuJ2yqr1J7OTe6KqUycclw6ecfqgNSR+qvcaC4h1iP+6alursdGTeRUYEbKGMmbcyGZfarA4R974ba+1pOchGaQeyKc8Rosn+EY5O/PRma+yDBxUk0cwyBkX/UDqQiLRPcoi+dEX4uww71oKctadXd9dpO9uTYp6LOcXLTXpX6arqfZxqqs43paaB9y3v4HjkJR+pHcPodpMKoWmsctAJopKLNpHeFQB/72+2jeSZ1kz7XLUiwz0ucG1NoTe5WTP8gricZB6KA4GT1s6l12QPi/BMmlyWyT6CU45BeDn7vXCSltUUbzUOGPgvXuN7ETjSPQ5jTnOa0TVedITz99NO6++67dccdd+juu+/WqVOnemVGo5GOHz+uW2+9Vbfddpv+/M//fGJ9B8Z/e9Vx7j0qarWlxCr+VtR5BQ6quM0s/f3/CHXYFPGiJ4k6m5bRlhvV7dTsDMhDKpuwEtcwcObQ55Yf3OAYMwalgiZby3Gdfm+G0xIAc06Dl43fP+6LAyqrFRGgc78RXHO/uL0+x4VLhqq/g9/RKyOvqaRxb6nThC7gPXk/3cV+F2sz/CYD/Dk+w/3AhCqXsXqdzyQtxj3uA0t8Z636e26hHEFLts1krdExEvlcmi2JS0j1VnamxBjyetIVmQwbGxtaXm4N+387PfTQQzp+/LiOHTumD3/4w3rwwQf1qU99qirzkY98RM8884xOnTqls2fP6s4779Tb3vY23XLLLb362EqqzlLxOtDepn3IcjQj0gamncd6qBKu4NmH1I5DIOrNbcZMLXdgBp44YCVzK2jO7ME7ejJMYmJS2fKO6Hm6EK2eMuag1Z9c8ckZogywuqQ6MClNFD7DgLGXwaPNn5NcamMprdWMfM0TmQFAieSnl8Wgotu4Nr52CO3LvJUMSjMT4LoWaeZ5fE0Cf/ke3IrA9WRswiRauHz58uUdyujGG2/Ur/7qr+qd73ynbr311p2KXzG9+OKLuuOOO3T27FkNBgONRiMdPHhQp06d0qFDh7bL/ezP/qweeOAB/dIv/ZIk6eGHH9bNN9+sRx55pH6ZhQU9Mf7fg3NR9aKZBJ4MOqZ9fR7nnFGYGWQZU0Ap6oVOjKZbI+BefevqFoR127g3AicvcRCDTB5IjjfgIB6paDomv4NU0qcTAMxB1kKnF1XAM6nGM5j7kBiNn3NAJeeD0YW55BvrSwzC9Ug1uJp7QKSHp4Wum8HSM0W3b8sjs6UOE3I/7FMtdKhZZIAWQWd6LswUX1a9OG4ur+97Uytg26hV2gVJASdJ/7ekSdP+ijSEL37xi3rsscf0Uz/1U/rhH/5hHT9+XPfee++V3DqVzpw5o5tuukmDQfcKg8FAhw8f1pkzZyqGcPr0ad18883bx0ePHtWZM2eadZo7GniilmCVje67Ae6hqpjcmQONC7MK55nJmBPXKutFlN+lwhDoJvRHzky3dJlRPU6wjO036i3VLi9qQVxA1c+kK8ySnjEGiYpLff87A2WkArqdQxmpTuIZqa3BsM+5c3bLY2JhwPiMjCfx+5Hh0O3LyZff2+9I80yqTbMMKkrGQu/Gy+piMp4bnzOj9PigkKCW2VrDkm1MreLfxWS44YYb9Md//Mf6wz/8Q33sYx/TO9/5Tv32b/+2Hn74YR0/fvy7Zk78zxBtrw3VHZad4VDWdLcRcc+YAtrhKUVNnvweRN5ElMyHsRFS8de7zW4/pedS1DFSCcVm6DLzC0aqMw4tvWxuCPcy1DUnWQa5eJBtxHXjA4p2ugxXS/Y7sX9tH5tsBtA+trbCTVndbpMZruvyak4tiUsXJ916fB4ZQ7oPuWmsvzO/P5/nd+JY9PaCy3HurGotiCHaUt/rkLOQZizD0qfRFbsd19fX9aEPfUjve9/7dNttt+k3f/M39cQTT+iee+7p2fxXSkeOHNFzzz2n0Wi0bTI8//zzOnLkSFXu6NGjevbZZ/WmN71JUl9jIJ2NX2oI51Un/lj9NzGdOGMBTFSDaVe2ApH84V5S94Fbdr7L3qji9mKZdA1yIPEju24PepoI1FbIEPhOfg+XaanY6cKl9N/ENQ/UBMYYEpxBXSSDlq73rPpMKqXyuuq+SQB1WX3h4Mk/jPsyViHNoPxdUokmNejMvkrTZCvKnFN/Ml9Q1w/cbm5D9Thyf3A8J8aQY3NSYJnpihjCww8/rL/6q7/Sz/3cz+kjH/mIfvRHf1SS9Cu/8it67WtfeyVVNOmGG27Q61//ep08eVLHjh3TyZMndeedd1bmgiTdd999+rM/+zP94i/+os6ePau//uu/1qc//elmnV47wAOWk8GRbGkO0P52PLwHtW1eDgAH09AmZI6En+/O9wf3va6XgBvxAarpLVueEtfaDFcPWtX2qms9n7hRZw4amkp8RguxTubBAUbtwOS1F7L97nNuo+brlNL0KlyMMiZGKRI0zKXDJpl5GerLfA3/ul5P7AxlbjEetpfP9loN9HLY1PCCuvTY+H1cH8HUBHr5jRincKWg4hUxhFtuuUVf+tKXdP311/euPfHEE407rpze//736/7779eJEyd0/fXX6/HHH5ck3XPPPTpx4oTuuusu/dqv/Zo++9nP6vbbb5ckvfvd79arX/3qf9Nz5zSnOfXpirwM3y+0sLCg/3P8P1WkTEs2N3ccwiqOLdmN9uYuwgTiTJYIKVEJYKWa7pgEqpFnJT2rehkwmhAGsAgQDVS8GFIX77B3Ufr2WPycUactZNhvah98DjEUShb23WDcTmb50fXoe6idUGKb0nMidX3i97HWsa4aG2HU50DFRUjX20jFG2DvTbbN7j7hWmor/LbGcLyjleNL6Klwe9w31gT5rbO/MzLUazvYi2M8gXtcMrTa7yTVuI41U/b7Y/o3ehm+H4lqb8Z+c0LRreSBSMDKH2u8zmmVd5+uPZoVHNQe9BywhyTtReLBhc2+20hxbHWWz2kBd6OtYvLsVXupcZdV41q6ZV2GE9IAF/uWAKkp1dW0yROvIBP1sRF6eoOEZ9Pt6jZwfwue50R03bneZCacUXW3UGGIvFSbPhlD4LbmRKbnJ2NMpHpRFMde0MQxU89ENWJBxlZa8RctmjmG0JLSdIPRRjT674FuqbKyKF2HCi4PS71nVSQl7X+6iBgVJ5WU2KHKQLpuSZ3BeLHUkVu3L8Vvxq7z+R4Ez4/bmKAWV5JKaWQ0mjgDkXOpllxSGcTpech2JzNanHCP4lxmI7YmFBmNGT9deQniEohsSX8zpwzGSrcd18fYq5oBGI+hNuS2W2OQaq3TAoMT15jCBo4JHvpZFHCtvR/8rEkesaSZYwiMBUjwiYPBxMm0yYIuvEtaGEkHkFHkUN8FiMTLm7VZkYxpRdKu3eqPSIhYawh0I3FQJ4rsAURA00E66yhjgM115Hs7Qo6A4TDKuMl+1nrc41dJXz+1iAQk3Z50w7l+v4/bm2AwzYHUdrwkHE2f1HD4K5XPnu7G3GOR3ilPNm7Am0zO9xK8HKI9DOqidE9zIMevs0QJMtKkMOMfqvYCTaOZYwhUNS1N0+Zmx1KSO1x3LyFgBpGr7MGwcEDSq8Ynl6WFITL4Lkp6Sbo0HtUjSbs8UyKPdTRusNF4eiws8TwArMKn2tdyJdm3bglN78tQ9VZo7gtFGakMLk+CSS5FahdsDxlCajim9NGnGZGaUpprxEPI5Njdi3GdZlzGEJAhGx9ikBiZl/k6PUN+DpfJT/dmaldst69PYiy+z4u3THIpW9PKEPNpNHMMgZ2Yvl3ahlIBFX3eCT2Xh5D+Y7ti4ZXd4a4tFX2aOjuXNVqStCYNxqNoTdLGlrSyXgbTwhgddFvsDqV2saR6dycCYVI3iDzh062Ug4mTqRUBuTyh7KSJ3npGYhGte3JgZo6E76NUZUKS25eai1RPOkvq0YR7yBBYDxmWo10Z+m3mw7U0cr1Efw9K6mkTkUvDpabEADm3cQvlN6MtUp/5fSc0cwwh/eBW76U+Q/B1LrF2HXVGUq6yOpT05fE5bwnkUbEhjTaLp8Ifiirs1rAOTnEQClcTsn+dquaY10gqSUG094WQUakAACAASURBVP0/4+Rdl1RLOGbP0YPQionweTII/tI8oxRmoA8nTq7hwEHslZhNlnDU7GhOuV2thKVJE3GkonHxHWj7tzwgnpB+x9xRiZYg+2EUZXiPzSaOy+xfqURsEvvJtSZpHuZc4LMn0U6g45zmNKdriGZOQ0gXXcs1yB2X0603Go6PqbczltYi4Ix0eiwCzkvaPaxVe+YkOE6driZDE7kkPD0RtuWtejq+3ce2k9dU/OKWypSetLmt7rYi3FLVpD3q7qDLj2Ag76cbryW1042X4BnbS/ek+26f+pGhLpMmDtudz5Vqk4Xbvgv3ZY5Ebsue0t0aWuUKxjv6/RjtybUj/JyBanDY99KjYZPF7R9EHS6fWskkmjmGYDICm+CNVPuqOXmMKC8PpQXeQL+dJG1Ia1sFqCNg5+JLcUsyn1yG3eoeA4/se08vApNbXM8L49/DKm5DqYt34HJjF6I8n93KGkwXYnoITF56nn3tgZmZlgksTsMmuN4iE5J4j5O3EmBDmEfPpHCcApmGMYgEHnnOma4+ttmXSV7sT9dD5pquWKGs60lzp+VSbwGckxiR1O/rpJljCIlOE6ghHigV3y7jBRY8K4nSJVt+qUPpGeRyQbUEpO1s7OCA6u3fM2fektrtMeh5AfcwWGhNZUDSdTVAHWZE3FNyU3XijPtGKJMAGyWRifVyoidjIaN0Xa3n+hoHNScnJeq5xn0sk9/ARI8SvSk+x3ayrpZN72skj7kMhuMEt6ZCHMLMNPsuMRz++ntkdmxiFRxnO9HMMQSSB3ZG03Gy0O24fZK6spE7OHsvne8u59buOfBNQ3WTmpI+VWLfy52bpXaAjZu2T4WJ5CBYwy/dTh4w3tjE59iWVh59DmqfywjBNCPSJZdRhule8/NaS4jxuQkGZp87q5URpxtRLjUNv0c+i/Xb40AQN6Mok7GYSbBOgn+OH2BfuV9ak1s4x3fKSe/v3HJvTqKZYwhcFyDJarxzKV+lsTsxexJRHJeGY/VzfM6LjVxQ/cFfpXpgZ7DMljrTgvgAV2IaqWMGnHRmBh7Ue1Xbni4jFWnvVYs5sYhdUJPgZGZAi7UKIuXpovN9SYmUp13vycG+yrgCmkVW/XNS8tcS10ys1Z5U/PxMagnWisjcpL7HgynI1v4ivKTyqBhPSgaW/cIgoyRiCBwfXOsiyZoj++WaYwiUTv5QBLsyJLfqrXFvrw37yUAcJOfUXSfzofvSzySfseRoRcv5OV7ajANnFeVWVRPfNRkNwUsPYhOXTGdbqJL73nxWJnflxGaZXAbMzxba4wnIycFBz1DnSQzXknVR9fLue1RLTzInrluQZgOfY8aZYCWvt9Rx7xsp9SMxU/Vnf1PToPZEy9XPc5xKRkCSWin002judpzTnOa0TTOnIZiYDDLJq7DA9DtpWzt4QfVKNZSm5sIEKy1FqMK6Db7HCDbBPa5P+IL6ridLe9fjVaASMHQwj4kuOh+bCFCme2oY11q2eWoGVOMtPVPaU3V2GHCaU3QHWuWWyga99nKYErRzXUwMI6jozV+J9CdwalCP4HB6GVL1tlmXQUjsT2sq1OhoQrhdjLR0v3B7QOMXvK9lAmT7XR9/J9HMMQS6+vzyniyLKrsoSdrusdG3usMNdesHcDVkq9y0W9fVDdiMtvMH5yCWOjUwwUGpXpDUmZacvF6lmeAfVU+vrux7/c60TxnaavIS6mROjH/gWgOMdCRgZqL9OglTYMgx3XImxouk31zqL4/mydUyaWj2JKBJBmf3YQKaLEOmmfkUNGMY3yCV3Z3JCMkQ0pwkk+LzeI9dvsxBcVsTcGx5Qq5ZDIEfc0sFiZf68exrwzqT7WWVDmccEicY3VtpMzudwcuwL+K86+E9BJEMcuUH21Dt7ttQYRCc6NQ2UnLkdmm5bHziCZn77+dyIPv9kwkwNoKSz3UkMeefz884DT+T7WP7pZpJnFP3ztScKJWpSRD7aXlkXM5lkjkx34Rt5rNyzYW095NJ+l042T1WiQ9Ru3J9DF1OL8MkANI0cwzB5AlmIFEqCHdObiL1+TE9sQnKJZNYV60t5OIca+rv3OyBx8SUndQ5q8GMo2BarOsxI/Q9BBU9SQbqp9+aKGW5JPy0QJlc50AqXhOTAVIyIIO8LudVojJWocXQmIkp1ZLQ5hbNoIxLMAjp/BHnUDjG4SWV70JBk2NooHoF6Nx6PuMS3F7mIHjMpNbZmsCpXWUZai/5ba+5BVIYPkyVSyqcmct+cYCYA/Mef/wNlEnu3bIR+TFoz3MgURpZ+uaAZdzEojrXI1fMMXOilkJU3AvAcEIxEEvq+oPaCkNgmQBFb4C1rVShbR9LtYuTZcjUHNbNQc2FcN0uMoWBSti2yWnK6Q3ghGAfMKDL9Xg7v1YICt2K/F1T1392ZVMj4uRuxXC4Dxxs1tKU+D7EjKQ+I3Afsb+zvTvRzDEE2mmeGO5Uu/bYSTn5pdocIIhoaklyZi6eV1+Vdl0G9XKS+Bzj5P0OOYFTI6CWMFINPHlCEWgyLuEy+1XH3nsCZLw+mZPiugdiK77B5H0i6evP/Qg8MWgWZV8xJdrP4cYtbm8rF8N1XFSZQJ5ga+pnsSfOsKWa2Xt8eIk9r69I82W3ujGR35WAH2Mp2F5TxkqYWgwv66U5knEaSTPHECjBLEE9ma0OZtDLrriX4czr6n8E22WZVk27lwOUabaTOLYHMFFv/088g1FvluBsn5d8p4nAZcw8SFqqaMYLcDIkIp+TNDUTqSwQuhVl/W5S179kwL6WEyI1BL7zfhUGlyDgpG37XJba2zmVBXCkgpukBuO0dNezoaJ1WkPiYjIOmeez+T4EUj2G6NXiPS3PzybK5rUWwDiN5nEIc5rTnLZp5jQEk236TRVua4zAHNUx6VQ9U/I5tyBjyOkRcIQhQ38zBTlDqi0RaM601MT9eM4u1VuhDdQHMA3cWbI4lDk1gnRhEgNpLSSTGoIa7XW/EBdJ4HFJNUCZEYTpcmyZVn62pb+3raeL1mWoRYzU3xrN//tZtMF9LvuJbbEm6LpsLiayz12jMt3c9fJZ1mDctvPqL6Jq7SSBwwQ8W9mUk2jmGII/uNVmotG2pxOUMw1UMhJzEGzhHtvY6d8n0bvhgca4861xWxMh31JhWLtV29A5WVrqnScbzQ6+JwHGdHulak/V2DZxrnXQcpPS90+cZgnHDF1O8Jdu01H8SmXiMO5jUXVimNvKIK58jsvYy5Cm1FDFUzKK80yZp6nito7Uzya1a5h7Trgd7iv2/ZoKNmFTl4yMqyW5Hj8/23KlNHMMoRXvz6XMMs2XQThON96vMnCcgERp4gE9CbltSUYi7FLJhciIO0oot5d2+yLaa4ntQCm3bxh1sE5OJAJV6dpzWQJhCdyRWkFLCdr6OKUj+5eYSRIj/6iBua0Ze8F9PH2dzND5DEdQ76b6e3CkJ4oaQK7I7DHl95L6C9I4OYoamQUC3dLcCMcMgeBvfrNJwWOknbwNM8cQTPbPMmNvSZ1/nqvQcABaijhEVCqdTiDPky5BMq5IfBbX/RwyigTghig3CXgcqb/oquvPtROpBltN57Py2ZawrsM+fE8GS1tOKN/ntrg8TSdqHnynzOGnVtEKPOI6ENZ6qL1k0NJAtTYziHJ2L+5RESL7Vbs8X1ABZPlNGGGaCWmjxjnfR7OCzMrANWMKXhqXM0Ow6SfV3zg1O8Z0+FuQoV1zJgNf2NFdzCCjTUXU2r8ZeLKlvpptNYyeiMQZhuo2TZGKS5Ify1oDY+TdNk/MnPj0cfv6JdVbiZ1X30dPSU2VM+ME0q8v1cvNUSLnrtIt1d5ELSFNjLSV0wvi9hLrsUmXuAOZ8qr6Ls00eXLNBEVbaF6SYVlSSyWbs/XeZFKp6fld/et6uYCu8y/4HKme8HxOuhiHqhkpnzmJZo4hZC4Dd9lhLL1U1DZu5Z1kE4GDxIM2pRIlY0rFnMwZAmvKUFN+4PyYTnziO2UAkRkVNZwLaocMU4vI4CtqSSaaQox3yPabNtRPiU4b18AfTaBk3MZjODG81ByDuPhrhraEe/xsS+EN9ffWJOPnezAOgUFdNANTQ0zQNs0v3psRswMVvICMJE3gdN+mmbwTzRxDaH3wlF6UIgxdtWpNBN6cmwOrBdRw4rbCfD0YOXHZlkkDnxKd7+c6cwelxCWMGaRHJDWRFn6Q53OLOGo8xlrsh3f7Ke2JZ9BzYhyEZWjmMdjMxHwM9y0Xk2GylFS0P/a3F6x1GWuDZOyOQnUZZ78yC5EoPwFHt9dm6yDK0ARIwHNZfU2P/e378nsz38QmXYtJTaJ5HMKc5jSnbZo5DSHVu5YaZSmSHoWhakknlXDbBMEo0c2FMwSXNmO6tCjR2e6WeyvxC0qaBI0MOmZ2XUoGljHGwn6yucD8Bl43Ms64CktBax6W/NxoNl217id/k3wftz9jIOhKbYUYpyrvb8al5tx/NCmJJ1jr4BjycwhwTlLJW1ok28fzlubpLcrQ5MTIst5sS2oGuzSdrhpDWF9f1wMPPKDPf/7zesUrXqFHH31U9957b6/cxz72MZ04cUKbm5u6fPmyfv3Xf13vete7JtbLD+WBmfvyEdhzmqzvNbrOXdpyoJEZSAUzyBDo7PxkGLTRV1UHUfkdcvNO/rbMDK/TQC8D95g9oKKG00dPxsO1HpNR0evgSea22hQhI+RaDbtVVGW+E5OQHL5LkyEHecuEcLvTC8IJ7iQu3ktmxDR115dMuLXjVAohhz/TnDJ+YuI7pgvW7U/cifEoLM/zNBloKnB8TKOrxhAeffRR7d27V88884xOnTqlt7zlLXrmmWf0yle+sip344036m//9m91+PBhnT9/Xm984xv15je/WW95y1ua9TIW3B/XH9yoPKVRItzelY3ENFrH+NPOpX9d6rvbdo+fuRO4s1tlR2Op/rhu75ZKXIVU3GKcuPRVe+JTSvs37W3hmpkTcwKSOWZEXtbFhC+2jQyHWILfkYw0AUipto19bHubTHOkMh5W1c+Z8O57/I6MY7FGQ8zAk5vRr1IdNemUbtfrNTi94pXduqnxEKRNrdPMn5pnYmQ5XqjVfM8nN330ox/VBz/4QUnS7bffrrvuukuf+MQndN9991XlfvzHf3z7/3379umHfuiH9Oyzz05kCLmRaQu55YIpyW0t4bhoBsOFCXoRwKQKm0DOLvWl/CiON1QSYHLLdUY3ktFQQ8ikHbrJcuUfD1b68Tl5fI5uuhxQluTp82aZZdXJQmsoRy9AqsHpWvV7JTjscrm1psnPl/rS36Apv/+GOv8/My03oowFCE2f/aoZgr0d6WL2sy+qMCipZLhS2qcm4vtb4eaU/g7X9zvaBEtNYRJdNYZw+vRp3XzzzdvHR48e1ZkzZ6be8+Uvf1n/9E//pA984AMTyzDLj6HD/uXSZlJfvTZDSElIn68HFhkAfeC+xrUEUt1r+f4t6ThwLqoMPg9gt5/LaVGlp/q/of5kWVLZ+k24L3ESvrfNIrrbOED9P00RS0tS4iKc1CQi9N55KpdzS+0j27uq4lI+qHrBFn9rumS3VFbN8nFiHu5zP8cxIPQsZFi6n+e+shll4eXy9Dx4zDDqkViDVDReMmteb5mxO9F3jSG84Q1v0OnTp5vXvv71r3/H9X3ta1/Tz//8z+t973ufDh8+PLFcSjlK8gSIqHK6/B7Vy4BZHadbLNOUbRt78Oc6hvwwdIdxUFvdW1LZGi4Tk1pYQk7cRfxp/FwzGj6fjMV+ddbLVZ6Echlsw4ngicKB7y3eXK/Dn+mLP6easTC6lKp1MgAywZbZtqzCEIyd+B1fxrMSgOUCu86TSNeetbh96i+E4v4k+Os2SSUykULCyW3sX6ZM053pc5vqC5RJlCD2JPquMYSnnnpq6vWjR4/q2Wef1aFD3Vozp0+f1lvf+tZm2RdffFFve9vb9Ad/8Ac9k2ISLarEjHPit2ww2r17VU+ojA8nSEa7vYWMcxDZFm4FsPhYqnMkPEkzQo3cnviI20QMJKXpcFyW+0pY+iQgR2IyklQ8NJm9eUm1VDurWl11mDVxHO5hkAE5nCSpVZCB2TQhUEpzxAzOz7FgyO+fGo4XeKUWQabnOApuuOp7LuKe9HbRRKPnwmWMv1CAJAO7oDqYzJpry7uxk6lgumpxCPfdd9+26n/q1Ck9+eST+pmf+ZleubNnz+qnf/qn9fDDD+s3fuM3/qObOac5XVN01TCERx55RO94xzt02223aTAY6LHHHtPqaqd0v/vd79bhw4f10EMP6b3vfa+efvppfeADH9hmIL/zO7+jBx54oFlvxruT4xGgkwrnpsawptruzTRa2570TrA+qe8X5+5Pridj5BmKm79sC++15KKEM7BEwNPv5nsSiLT2QmzFQFSaPkzh3aPiFWFSEFVuIvtL8cv/aRak9MxvaTCVtrOlNk2P8yrfxDY9NRrXy3iGZbyTx4NNOKmv2VHjU5yn9KZnJRPHLP1zufnUbn0uoxU5XlomRAKR02jh8uXLl3co831DCwsL+sfx/yuqARapHSJKsr3YSuRJPzyXYvNgpAnhMFipTDhmuHkAsH2ZC2AVMlXlFtrOD53b1WVgll2InMDeS8Lkd9iIY5c5om5h0f2ogzn7fh+2Xyp9TADzYtyTQB6BRakArwQQHW/BJdOEMu6TvJ5L3XHrPKljBmdVL8zLb936JnYFMyeCDNP9wnttdrC9h1QLlZdxr+vxOqFuG/vbOFG6u78gadK0n7lIRRM7JicYJRUTXhhtZ/KAZzq0Jy4/nlRLuRzUGVXm+Ii0TTl5KAXdPjIRS4RM2mHb8tjlyLA84ZhObcmTg5iSm3Yx/89cihbYlf52SnZiCpOIdjylfDJJeoekWpqaGZB5Em9hDIth7IFqEPGcOoZB75aBSfed99p039ljQg3BmhAn87rqqE/nVSSDZTZvS3Pl999JQ5g5hrCJ3xyM6VM2QEhfu9U0MoVDql2B1jIyio8qLFc1pkTLycIBm7EJlARSSZpK9XSP6tWCSXa/cuJmpKXNDk4aMz4yLPq4L6rvvl1WHTRlEI/tZb/x2SZPDrbXzJIMK5lcamk8L5WJ5femOk/PlGNRpK7fbpK0ckD1ktdDFfH/rXplJC7kS7ciQWaPL3q7cq2DgUpWKh+bgC9NQLvQWUdGxF41L8PVInZsxuNL9YCx/5c+8CV1k4sfi6q+1Jfk/igZAMVnJpqd2otDralKWtOg2r6Itvj/V0m6EfWcV5mYxDVch/uEzGlNddRdBsJQPffvQKXv7OKj1uOJkunhtOXZLtfD4CwzCG5xn4ObWADrpfTP7Ee7+fIdqZmsSFq5W9J/lvTz45MvSfqwpE+On/OZ2i3t2JFE9VNKJ1NkCLjG78u1PFzHJHPX9bAOv1u6aKfRzDEEAikZvEJAUOpvzMINRjzpbF9TdXMACSdU2spD1RFj+Ww12pfBKJae/NAMQz6gTntZVc0kCP55wRRKer83NRu2nTEI1J4cV+Bjxmu4HBmn4xRa8RMDlOfkMMbAuI8W8Eip7j6jJPQ3I8gsHO9XMVWo6bH9Ny1K+k+Sfu2tkj7Vndz7Oek/v2l79ZvVz3S/KQToquZzpb6gotsxKQFElsu1MBJDsODKmIdpNHMMgRMjTQTbYSmVUrIzkKclpVOlz+3IbCJkTgQlqok2OX3NQjv34jiTaRzhxsAjgoP7VDMvot1kAi3JkcyUarvXFsjw51w/kJN/Sf31G9w2SnCq7V7xJ5lpaw9Jn5dKdCZV7tT0iL1IBej1c769JV33z5IuPCHt/d/HZz/faQef7Y7OqA6sMiBNLbI1DtbjHDUit4XvRbODAk2qF05Zalznis870Xw9hDnNaU7bNHNuxydwnFGGUs0tjchmBOBBlc1SB/FL6Ud7mtFsToaizZw7MFsSEVX2/5kTkZ4GahDpTvMx3VUvqd5YlAi41I+JyP/9LErUFdUquYmSm25LUmoQ1Bjcb+so6+tUjfndTHQXH1AfQzA+JBUzixqf8xTc34ckHV2SdJek28cnz0r6B+npb3WHz6jOhnXbec6YgdvS2tBW8Y4uR6zJZkaaf8KxPRokxk4sSvqMriG3Y+YKZMYe/bLpiuKuwv54mblGu8//Z2ZaK+c8B7XV/LQjFc/mPbSr+dvyIvg4N/eQitkxLdEqk7wymMmD3M8x4yITaKX4egLynTKng0FSNKEIttJjM1LfDLQ3KD0RdKM6n4F9tayypJ4kfXUo6TMdeOj6X1a3IrPGv2yj320nc4zfqBWwZhOB3yjjCbgpr1Sbg7zOfpiW7yDNIEPISC9qCB7ATL1ldFtrIjvRJlFaMo0MlPHAI2iXkXJSx3yYAutz9K9T4ro96Z5kYpXt06+iDBlWugB9ju3i5M5MOmIGTPmm/52YDL0irCfjG0ic4MYdLuGcgUbGj5jMNL23AnEYZjuSwXMSpdfBEtn9ay8KNZhM8koJTaYjFSmeGhk9TH5uMhYem/lyD0lqHkyY22lhFNPMMQQuB5ZS3SAN9x+Qai+D1eA9UUYoa+mY3JyDLQOjUvozYtHPTpAzP3Au7+a2cFLtV39SbqlmGHarMrmJbbGqnZIt03m5xDcB0TWco5YxUIn9oLRvmRX57AwYazEraidmwARTqS1yCTX2J0OVrdEMVExICxm/t70kGSwm1dGNfGfWnURmn/3kmBmOW6Zv+xzr8hjZSTMwzRxD8AffVOl0SuGhCkMw5/QHdCorV/qxhKYpYjfXJHePByY9FS6/HufSH5/BVJSmrYHlCccsPvrxWbdUXJn7VIcPk0HwXabFIZBBZDYn7zHtVl8rS/zGmgZV5TRXWiaE66J0ZFrzUH3J7Tpdr/GllqZHk4Zu6IOqvxmZ6bQsVfad8Z30ILD/aHImI0nPFbW2dIfvRDPHENLVM8kMkPrqrD82pbUHum1xg0MZXceJu6kuMIic3HYy0359TSqSm/sTjtRJmUzZNV1ScUlSBaca3JJEZkZ0/fk9/BzXl8liXCeCgKcZJ/vG/el3dmw+F3bxBMqJkIuLJgOW+rgBd1Ry3SlxM42bfZUxFf6mZBoD1RhDS2tzOLHv8RjKWJF0ZXMMWetJLY5tt3Bi6DJ/k2H6WdNo7nac05zmtE0zpyEQQ6AqJvVXOrLkphpsGzGlpolRZVRPifB64Qqq6l6JiZJxRbWG4sAZcvwE+/hcqdMoKNFZTup7N6RaykslyeccyqQ70clPKaVNNgN43iZYmkUZwp1SK1F7mlNSrb77eKTaDPK39hiwpuX2uf7czZrUksoJivoazRq7M/m+zBRN0Hmg4hXhmKJWlOC2VPop+y/fgyZPYmJJM8cQTCMVe5CqO6PrGKIs1QM1gTYONGMBnlgG8SZNSpdJdZpqsT0gF1RPgBUVs8BqeeYg+Hlub0YHkiH4POPtzYioitJ9J9X2Ld/RzItMjIM4B/BF1esWno8yjB2QinuW321V/V2l0jTye5+Lc/QO+HkZ58H2mtGluk/Mg/cPVa9G1Wqb4jjdwG4rn5P5IG571knsxGOSjHpaLoQ0gwwh4+alvq1JW5G+cnNpBnw4VdUBLRu47sHFABKpDGpKMEt7cmp6KqxlrKj4uD0g0u5l7L09BhzgOQlTIqfHQypLxft9PLEzKSjf0eRl5hdVr1vAdSNcD4NnEuPJGAMP6EV1GITUAXkHVL7Jyiu1LWa/Ob7ROydzh2W+sxlnxkrwXa3VcRFVX3e711ULBwofap6s1+XYL5keP02i57doaQQ+b2bQioVo0cwxBLuMWhMkV8jxR6SUtRmRjMUD6gDKZhCUcC0lubUVSv9E/9McIKjld2IdqzhOQNBt8/vnc5kQlbSkTv1eVz/Pn1GUKyruuBtVvB1ur/cjoGvSC8eSufG9ndVIr8aSun73mgS3S1q4TdJrxiduGf++IF3/TPfv9f8svTCs40ZGqsdHy/wh0941fj96g/IeM+Oc7GbwrJNaVK4BIfU9I/xufGZqchzfOfntrp1kAifNHEPg5Oaklfp56FLfb+vBSKQ50WrbhPxAVB0d65BqPNvC9QdcxkEmozhnYqCM25KboXiy5wD2s/aom1jX3yzpR3Hjf5PWni/32OthhpALluxSN0n3miPc0v3sfUHaO75psF7sY7eXnhy/E+s2c8hkoRUVDWHhh9Rxhf9lfOIHcRMikhaH/SSpVkAU8QG6U41/rKj+tlLtxcnkrDTT7GHid2MQEjXNlldBqnGVdEPz+zMVu+Vy3ElTmDmGQNCopRpLtassbT1KFJelTThSiUzkh0m1fH8cS+2Pkc8nh0+b0Co8uT0HltQN/B9UkUZOf/YgWZV0/QFJ/0XSr/yv47Ofk/7LulZOjg+f1zZ3XP5WqZeMdCBp7ysl/dj4xBEV0T+elPufrSUYmSqjRX3OZXjdjOeQpOvzpDt5WQWYON+d+uZ61wwzI5t+TINOTc4Rn4zhGMR9JmppfDfb/kuq8QsyOWMGZEgvqzZFzISI4fg5dCuSUWRsCMHOSaZf0swxBKvB5tJcWCMZw0h9YM/qN/3wlNJWxzPqjCpgRt/Zc0BwKaPzHA6bkmGv6gHKe4l1cKCnqdLzPe/TWNx6V6wfl/7Tfy3S9Sl1E+s5aReW/eHgW/JDWblBmFH9TtQQTO4rM+5czJUmzrbKTh17XdtrEuhldbHaT0nf/v+6U/+qYrL4lk21k7p4zAnnvBa2x9qf+8EeGgoHL26S35Kp2Dmx3UYynk1cc300T8w400TgOM8xv5OGMI9DmNOc5rRNM6ch0HY2NyXCnL5yJilRgtOlaN+yVCQ9pXMrmYXuLD+DpsSK6t2S2B6fs2Q0kGmJZWl6XgUTcbu9Mq+fk6DXSNL+/yHt/T8kffm/dicPjV/C+u+b1Lk6NrStgo9acPdFSV8Z/39G24kMa+N7XlB/X0z3C5F8t8tlMsHLZtI3x+6L6//7uBP+33GhiDEQJQAAGYlJREFU9e75T291moFUNohJcJmmn78jvxO/ZY4Vn2slViX417rPbdmn2szcjevUFqh8DeOX7aP51YqrYBj09+x28N9tSjeRyWCjVMCeTZSz+spznAtDFZ89k6Ry0tF1NlLtApPKQKcK52Altp22uweJ1eALKkt+M1jnnAqavj+uS91EHT4hHfx/8OD96sAHjX9flnRJujwsRTJQ6tJQGo4fNHq5qOVklG6j2+8+cd+ZMXI5dzI4pom7H15el/Q/yvHZcXOJGWT8QJoHCbqa1qOsGQnfm0vMpdfB78iJ6npMGbfSWoPRfcC2pIkh1czJzJZMNj1TGXCWNLMMwR2R/nJODksM2ugJ+BhXoPnqvPmebT6mFKa267gC8VKjnAcwP15mO1LiMrPQ9xgoddvO4R2kWtK8uIn2rUsHjSGMJfC3z5cJ5onFTUsoedxORgcmhjBpjUFKLXtNyOD8ngnSMbNRqr/tlupgJsdHuB/2q3hsCNyxrzy52R57cUzejyI1kYwxIJNLd3IulmPic/0+iePQI0aXuo/95364ZiMVW9FZ7GCp/sj+zTBbDzJOpIzAS+BmKa57VyYyAavGiU5TGnnn53SVZfALzRMPSE9KD94tHHtAEv1fVuemk6SV57sy51T3117kE9uUyk1CqLZ6omQkn/tEKpYKN2VlQtSWyr4HnvieTC1TLcnPW1UH0DJuwgz2jMo7OVZCKt+EgLGZDPdydISpr6dGk6HW/s58n0kajMlMnt6KjGVxgByZ/zLuY1sm0cwxBE8Aj12aC+4s2rT82OxgMgBye0toLyEmdZ3Oyc0PIZWQY6ap5sd1PUTc/eycdLzHE4mTm9GCk4JbrDm4DCUHFxqtaCCtjgtW6L86wD+DucxMW9IpA7C4jBv3mbDmQQa2ofZ3TRWdaet71HlGb/H1V6vDTp6Vjow3I/9nFUeLNBnZp2mSk5/L5zGHhlhFYgyMFeE7cO0DvyM1XjPf3HrA5LFOJpDeraSZYwgmxnBzktO2l+p4BV9bVr30GINM9qtMBtebS51xOXc/d6Q6WGl5fB+ZRKYc2+U5yXXU0lLOxXEGZ/E5/l1RP8U7pe1FSaNhmxm5joyLsOlFHzgBRRMHsUOdmevgrdTMKJ3m7P51boPU0HpQ95KkgRHaZW13vt/pVdE2T3S2x5pJAsoZLMSJaMaSGkLiDsm8CVy3GIjrTulP8yXP7eRWnDmGwMFuCUXpk5KGaK4j/xIzIFd2CCpxhxVcI+WKPkI9CSi2bGKXIzlnwHU5FJjnWkkxXDHpkmog65zqbe79XEruSfHyHNREtaUyCVhvmluO0WDyEMOdvYIRg6vM5DMxjSHRSefUQSPrYxBk/8tdeSZaSTVGsEedNkBPlc0gvrdUT1gLlTRpOAa4dZ7UHzsUMKy3VR89JyO033gSmdNOGsI8DmFOc5rTNs2shsAYBLphiCtY8pvzRqDdNqWd7z+qY2kfE4E3h7YHQzjeH2UIItq9lRhAxrS7DSQ/xxKYkYGWYJRqkzAFbjLipBypeA+obWUorUN+KUVtMmSCTqr2Nl8cem1gtkXWDujK21Kd57GlTtobI2BeiDUEayqWsM5kvKACGnpc0e5nNKyp1VZ+x1w8V+ove0dtqhWfQNPAv87QdB1ZdpJnzDRzDIEIsQdapr6aMp6etqE/qCcqwUpPygwWyXuZBpyAkG17Apqe/HR5plck1/PPD2w7lMDTqFGeiTSJM/j9qMrbHveEspeBC4n6eWSOBPaMTVDVd6AXGZa9K26vmWe6Lbmlu1SHP/s70Wtkz4nLZnr5RdUMwZ6ATZXv0NrzgLgU1XOOt1TVKRyMbU0LM05B5t+MMWHsQstk3YlmjiGkx4ADn9elMnly916WcWe6Qy2FMsqQgzztSg9GfhgDPkSiF1Vi46UCahHQ2lBhNDmo3A5iCh7MBDM3VLYWd1uoMdiLwkk3UB1TYJCPdr1Rb4KtUh1nkG5dt43PphbENmaUHe14e3omDXxLdTLE9Fb4OzOxzYFWZNJ8dqatc5LSq8D+zYSujHtgmUl7fPhZ6XLmmOKY20kzMF01hrC+vq4HHnhAn//85/WKV7xCjz76qO69996J5Tc2NvTGN75R1113nT73uc9NLOdguyV10oyDzQN2kqpvSS7VXHjSijpEjVtgTWvRDJPblVKBSLO1Gx+vqU5eIvMjKMcdmO16oqniWIRsD++xGkxGmPtCbqpIZU9Wqr25FLqjOykNubqPf9Mtl358D3yaRYvqYhi4yIvU36iGEy6Bu0Gccx8RqLPXJxd4sWm1ifMpybP9vk5Tiu1JoDIZTYtaXqXvBCi8agzh0Ucf1d69e/XMM8/o1KlTestb3qJnnnlGr3zlK5vl/+iP/kg/8RM/oS984QtXVL/diYw7kGovg6UBrw9xr8b371Ftiti2T/uaNnjm21vCruIcBwkRfbaFKqEnPQe11e1kYDmA6d2wxpIDdAn3pIvW5zhgF1VvRJtuPrfd99gEorTfo3rFKXtNeI/t9NWohwx5oA6PYR++rHri5t4XozhnD0wL8Xe97mt/a48duo/TlHQd7Jv81n6HSWZoi3KNBp9jsFvGhnzPRip+9KMf1Qc/+EFJ0u2336677rpLn/jEJ3Tffff1yn7605/WqVOn9Hu/93s7MoRT419PQKlvSxG021IBjDwpWmovJ0trEnLgW8rzI7isJWquL+ByzL1PldKmAJNiBip7SZD87rnXgOultM89Gg+N69wFVOrFrb7KTtcaGR0ZLNvrtRsTXPXqTC5DO9yT1v/7d6A65Di/VzKnZGjJrEzsJ5oHXFOTYJ8ZYQKnJNv1XBQmr6cb0986TVxSjh8Dkexbj/krdTteNYZw+vRp3XzzzdvHR48e1ZkzZ3rl1tbW9Lu/+7v6m7/5G506dap3PYkosuMKTLnhqlRHlG2qmxxpi3KyUH1NKUYVkKq/pQPV9HX1J1jGTVhrcDmix3yfPXGOvwlC+pgaiZmK61iVtMs6+JiD7f9WMVn8zlSlPQFzc5QETr2WQGpPfLbNEfeJmQz7hXEU1shaUXk025jL4PtY3n1tzY82emIaJvdHS7ubpKrbPEsmwLY4s1WNa5ei3AD/t6JSiYFcNYbwhje8QadPn25e+/rXv37F9TzyyCM6fvy4brrppitiCHOa05z+5+m7xhCeeuqpqdePHj2qZ599VocOdSvlnT59Wm9961t75f7xH/9RH//4x3XixAltbGzom9/8pl73utfpi1/8YrNeSkOrqKZWJJ1Uq3+W0NxhiRJsWUUyD+L+Fmrse6T+km25yhJDWF0PpUFKU0rlTCCyGcQwYtdhl2GG6breTUmjLWmAlxyoXnGIngC+K+vhIrB+dq5aNFSniHCvS4dSSzW4mbtfm9JD4t+Uwgybzug+qfTjFo5tEhAvIpjqvuQ35ordfgeabRkhK7XNl1yty+0lSJu5OMR9WprH9yyGcN999+kDH/iA7rrrLp06dUpPPvmkTp482SvHif/3f//3+v3f//2pXgYOrGluKKkGiqQyeFejHAe5BwltZWIPrjdtUQJg+UyXWVY/lXag/oel2p4urFxPwOHDObA4idx+M8HdkgaNGGAmWuV+EOwjgp4ZA5FZinZ/0l6/iOdY3aXnwWYEv/UA56X+dvBsV/5vyu9m96wxFal4r/gcqbbbHb+QyU3EBwhCemInQ2iFYmfoN985hZevEzj/nsUQHnnkEb3jHe/QbbfdpsFgoMcee0yrq91UfPe7363Dhw/roYce+o7rZaSiKTu1JWFMXhE47X+i7ZZi9ESQ4xtT8DGlNxdV4cQw57c9LxVkfRhlmARlkJT+dQJxZl6u4xzqyX6pciiG0nUvS5fHL35BdRRlbnjCdtJn34qybPnF6fJkcA01HPe3MZMMOiJgbNcgv8maakbpiWhqAbCu2/WeU8cQGJDFd8w4gtY7pibpfuLCPJfinvRuuAzBc39r30um39IWWrRw+fLlyzuU+b6hhYUF/V/j/805HcIqdZ3BjTlyYLrDOdjSHKB0zgHJskxCMpBGxmJVn16MTNdOycIIPqk2FSidWUcyBGo1pktxzrEKnOQXVEvulqRP0DbTcX0fgVz3Y2YCMmvTgKfb5+QySm0zSnqQGEi1pv4eEVLt8bCWl7EAlOiuh4yR3zUzXP2/NR/3AZmlg8mYds7gKKk2ZxajjGkQvxZSjiFxW74iadK0n7lIRS6sYduNEpUfnKvp+JguGuF/2mXWGjICki6tDdVZZ2uNe4xHuA2ttFgGDFlSUVtxqC3fiQzNTDC1AcYm2D7nYPbW7ZnDn5oSyfeRyKCYgZr4CyfUUKVf9qmknDN2IU0Gh1pTs6CHxe9HTYnpzb6HeABtf2oIXgKNxImbsR/+/ilkGIBm8zavUcukG9HEdmyobSbTdPqexRC+W3Rk/GtpRleUuWva8xzkrShABhC1JHG6uzIHQeoG6yS7VaonSbrTTA5tpuTxAOFgS1cf8zkISplsdyYu0CqX5HPreAcyn1yj0NoK1WViE574XrbgsLqt26jlaFwnd0ZKkE6qXaluq+/ZUBe49IJKH1+KX46L3B8hiZofhYPv533WRNnPGbuSk3qovsBwslnmjpgYv5GmwySapz/PaU5z2qaZ0xAO4n9LDdrNySHJPaUCNrlcBvpY/WIZA4RUG1uqHW3l1ipGtDPZPporTG81mp02r1QHq1Bj8CrN9KZYii9FHTS30uRYUZ3+bLWatr1V7htRRytenxrDispOTVL3PVfGneal4K2y74462Pakg+Mkj5VxgUubfdDTqdY5XliOadAtIuZDrYwmVuI6vNfjw6tp+TtS8rfGsOtlpCLpSiX/zDEEgidbqtelk+oPk0DfJRU1kxljRKNpX7LejFPPD2DcYSXKM7nHHoBMnKEZQ1ua8fQG4TJm3pOfy5yP1G2LZg+CVe7EJlwf28BYDobseuJk9CUniPeKzFRrMzq35SDauyjp21v9RVbpbqPHh0TAcLQ1LjM+sWsgHVyv3ceM35DKGhGJl/C7p6s1Y0lcbyuceTHu4aT32DTTcHxDRsTy2CZb7uZFmpYbIc0gQ+BafBfiGtFWqa0xZLitt+XKnAapW+uPlHECrNMBI5xARpelMni5r8Ew7jFzotvKmgmxBgb2GHxbGL/A6vr4mqOEVNB3DtqXVINR6SrL2HgvRrL6/7d3NjFRbUkc/2s/236+eTTPLyZ8DG9oZAwITtIMCSvEhYlfcWOi7IxRQ0JcqLgkBHWlcSnEhEiUHW4wcSFhgWLioMRETRyRSXQIOkbiGATtKB9ds+hb99YtGm2VBh7WLyH07b4fdc89t06dqjrniPPo5CCZbiyTl2Scn6MbDEcKeOZlwAuraotGJ22thHq+Kkc6sBr4LQb87kyrFneuwenv03CXp3Cv8QsSykr2yXWOBCPLUyusZIOq9KQp0q8krTadbKaT0uSzYaXyJWcis+QUAj9MdgTpByE1MZtX8iFwwctZlqSXmcNkMhFHVwbtKZYKgs8ThDeyD/C6GNICiMPfArDpKbMvw+J43keG1/iYTKd5/WV5IumIPvlbRg6n8TZXdKkAAvBGN06o39mykgqLr62zA3l/OPuvgddFCDiZShOOsvofPKWgw2yy7DgsKV+yGPwTwfq8r8Krt8ZpJSY/+RWPnPOBlVQmEl0a3ofnXJSKQE+qyhanjqzIbQ4ryjolFZFuFOR9J9uHt1N1JjJLTiHo4agy3KO1rc5L4O+0WTUhzhuHt/AwPxhedFgPJ5beYO528MvOfVUpE1cIGY7SA1ykdzrgyCFN9//CX0Fj8N/f8jjwc9xTNiyLnqKM/SCy8obgH9UoR0yyvNJnw90IiGO4FdSKxM2MdJQBLwgjp2rToUn58kiFzdeSSTqr5Je8I/85BfTnYeD3uNc1YSUpR4PyLFLSYpLlxnJKi4tf3Pgsx0iflFQSMqLEIVF5nA7x8n46l0VaDdoXpFlyCoFbsDF4L5zOKNT9Pv1A5YswW4aXfjlkBqF2FvH1eDouwKssMtS3Qu0P+Ee9BZPsxzMbyYxBwJ/6Owp/Bf446a84rECk4tShWTY/+drrnD+WX64+pHML5DvIfh1p7obgHTQ26VvV3e2yxcS12PEry1s7CD/BGcLtbC/73JvAN/srsPqdf/3NX+F33LLVoPMxVohtIPGyyvKVLy9/n8xRmKxrIcWUSkHXMx2ClvNa/LAWglwzkH0G2twKqe3ZPNPAzNaek3x0BZTn4QE5OmNML2Iqvcj8X7Y+MvOOzzMGT+lxgk4gDAScE+S8TcTWdYVdKbb53iWy754JIPinhFATYuHWcSF/0Gk2gyJAHxPH8z3JlwXwlAp3GdY59zHhCByDtxaDc9oZFpt0yPG2LnOdN+LT3vxfJy+EgNA7/zTscr0JwHOKSiUnlTaXo1xyj2WUXadkyUMaWXbSypDPVloefFtS+c+W6DQblodgGIbLkrMQuPWXYTKZc58sI1B2IXTro024d/Cm59aNjez7a62t/Rc6nMkeejlGglsSOcmq9nEEeTieo/oD08C6d97vejQez64k/Re8dNqyvzpf/B2JlM/lQPDfia/+8k9g7K13HvoELAt4uQHJsiu5GyK7EPydnIBVRn/GnPuVrSDgH4mou3pcvrKrE3OKJajzy9kGl8P/uLzG/c812SKqKxzZpU/hI/xzKmrnp47Q6G4p/66jU7Ibqq1N+TlZyJV/D6l9kuUoSJacQpCrE7NpL/th4/DHf+WMShwK0jFnndwEZ1uOKtNLvUsTUVYobbLJroKOWsgoBMsi/08CmIgBwUl4du4nYPqd/9qc7AM4CiQT+Hkl/J38TAB/c7b/gcS6ZnF4mV4xIOMhfLG/DzHvfuS4ABkenC39WZrcUoEmS6zRg6/4s5zWTCtc3aVznRXSBmehHW1Ek4mPHKmS/gKp/PUYFJabr8/3I2WSjl7+nGxwklQacgCZ9DFIp7h2/Mph1Fyfk80IPhtLTiFwaypDg7KQw5j5smino47961x0HaoMqf8816FuAXTmooQ972+T7MOVTi4uy+d7C2D1kPOiA6CY3yJagcS7vSzb+SIf/mGMEMLym/wvAP9B4sZlHHeduPhoQhnJZKFJzFyuXvsQ+HLu/IKOU2GFWGdR92PZEcnlyYEBnaEnnZ7siPxNmoPybWEHTQyYFiHOIXirQXNIEfAaDrbYkj0/llX7fphk5cCiAH5fD5C4Zy5fqXDkSy0tXg2P29H7f44lN/zZMIwv80MMf15Cus0wFgSLMhiG4WIKwTAMF1MIglgshn379qGwsBAbN27E9evXP7v/x48fUVJSgvLy8nmSMHUZr127hmg0ik2bNqGkpATnz59Pm0yDg4OorKxEUVERKisrk06XPz09jbq6OkQiERQWFqK1tTVt8nyrjKdPn0ZJSQnKysoQjUbR1dW1qORjnj59ilWrVqG+vn7uBSHDpampiQ4dOkRERIODg5SVlUXj4+Oz7n/8+HE6ePAgRaPR+RIxZRn7+vro5cuXREQ0OjpKkUiEent70yJTdXU1tbe3ExFRe3s7VVdXz9jn8uXLtG3bNpqenqaRkRHKycmh58+fp0Web5Xxxo0b9OHDByIievDgAYXDYYrFYotGPiKiqakpqqqqopqaGjpx4sScy2EKQVBcXEz9/f3u9s6dO6mjoyPpvr29vbR7927q6emZV4XwNTJKdu3a5Va4ueT169cUDodpamqKiBIVNhwO08jIiG+/HTt20NWrV93turo6Onv27JzL8z0ySuLxOGVkZNDw8PCiku/MmTN07tw5amxsTItCsC6D4GuXl2tpaZlP8QCkLqNkYGAAfX192Lp165zLMzw8jJycHAScwRSBQADZ2dkzZPoWuedbRsmVK1cQiUSQm5u7aOR7+PAhurq6cOzYsbTJsqTCjl/ij7C83FzJyLx69Qp79uxBc3MzsrOzv3yAgVu3bqGhoQHd3d0LLYrL5OQkjhw5gra2NldxpIU5tzn+wKRqjpeWllJ+fj7l5+dTVlYWBYNBKi0tXVQyEiVM0eLiYmptbU2bPEuty3Dnzh3Kzc2l+/fvz4tsqco3NDREa9ascetdOBymjIwMOnz48JzKYgpB0NjY6HPYrV+/nsbGxj57zHz7EFKV8c2bN1RWVkbNzc1pl6mqqsrnENuyZcuMfdra2mY4FZ89e5Z22b5Gxnv37lFeXh719fXNm1xMKvJJ0uVDMIUgeP/+Pe3du5cikQgVFRVRZ2en+1tDQwO1tLTMOGa+FUKqMtbX11MoFKLNmze7f5cuXUqLTE+ePKGKigrasGEDVVRU0MDAABERbd++3bVmpqamqLa2lgoKCqigoIAuXryYFlm+R8by8nJau3atr8wePXq0aOSTpEshLKmxDIZhfB8WZTAMw8UUgmEYLqYQDMNwMYVgGIaLKQTDMFxMIRiG4WIKwTAMF1MIxpwzMDCAvLw8DA0NAQCampqwf//+BZbKSAVLTDLSQnt7Oy5cuIBTp07h6NGj6O/vR0ZGxpcPNBYUUwhG2jhw4AA6Ojpw+/ZtRKPRhRbHSAHrMhhpYWJiAo8fP0ZmZuY3Dds2FgZTCEZaOHnyJKLRKLq7u1FbW4sXL14stEhGCvxQE6QY80NnZydu3ryJu3fvIhQKobGxETU1Nejp6cFPP1mVW8yYD8EwDBfrMhiG4WIKwTAMF1MIhmG4mEIwDMPFFIJhGC6mEAzDcDGFYBiGiykEwzBc/g9MM38ebLV3nQAAAABJRU5ErkJggg==' style='max-width:100%; margin: auto; display: block; '/>"
      ],
      "text/plain": [
       ":Image   [x,y]   (z)"
      ]
     },
     "execution_count": 9,
     "metadata": {},
     "output_type": "execute_result"
    }
   ],
   "source": [
    "t=0\n",
    "hv.Image(experiment.means[t])"
   ]
  },
  {
   "cell_type": "markdown",
   "metadata": {},
   "source": [
    "#### Multiprocessing\n",
    "By default FISSA uses all the available processing threads. This can, especially for the data preparation step, quickly fill up your memory. The number of cores for the data preparation and separation steps can be changed as:"
   ]
  },
  {
   "cell_type": "code",
   "execution_count": 10,
   "metadata": {
    "collapsed": true
   },
   "outputs": [],
   "source": [
    "experiment.ncores_preparation = 4 # If None, uses all available cores \n",
    "experiment.ncores_separation = 4 # if None, uses all available cores"
   ]
  },
  {
   "cell_type": "markdown",
   "metadata": {},
   "source": [
    "Generally one only has to change the number of cores for the preparation steps, as here it will load as many tiff stacks into memory as there are available processes."
   ]
  }
 ],
 "metadata": {
  "kernelspec": {
   "display_name": "Python 2",
   "language": "python",
   "name": "python2"
  },
  "language_info": {
   "codemirror_mode": {
    "name": "ipython",
    "version": 2
   },
   "file_extension": ".py",
   "mimetype": "text/x-python",
   "name": "python",
   "nbconvert_exporter": "python",
   "pygments_lexer": "ipython2",
   "version": "2.7.12"
  }
 },
 "nbformat": 4,
 "nbformat_minor": 0
}
