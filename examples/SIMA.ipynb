{
 "cells": [
  {
   "cell_type": "markdown",
   "metadata": {},
   "source": [
    "### SIMA\n",
    "SIMA is a fully featured toolbox including motion correction and cell detection. Here we illustrate how one can integrate FISSA into their workflow.\n",
    "\n",
    "For more information about the toolbox see: http://www.losonczylab.org/sima/1.3.2/"
   ]
  },
  {
   "cell_type": "markdown",
   "metadata": {},
   "source": [
    "Imports"
   ]
  },
  {
   "cell_type": "code",
   "execution_count": null,
   "metadata": {
    "collapsed": false
   },
   "outputs": [],
   "source": [
    "# SIMA\n",
    "import sima\n",
    "import sima.segment\n",
    "\n",
    "# Plotting toolbox\n",
    "import holoviews as hv\n",
    "%load_ext holoviews.ipython\n",
    "\n",
    "# file operations\n",
    "import glob\n",
    "\n",
    "# FISSA\n",
    "import fissa.core as fissa"
   ]
  },
  {
   "cell_type": "markdown",
   "metadata": {},
   "source": [
    "Setup data"
   ]
  },
  {
   "cell_type": "code",
   "execution_count": null,
   "metadata": {
    "collapsed": false,
    "scrolled": true
   },
   "outputs": [],
   "source": [
    "# Define folder where tiffs are present\n",
    "folder = '../exampleData/20150529_mini/'\n",
    "\n",
    "# Find tiffs in folder\n",
    "tiffs  = sorted(glob.glob(folder+'/*.tif'))\n",
    "\n",
    "# define SIMA dataset\n",
    "sequences = [sima.Sequence.create('TIFF', tiff) for tiff in tiffs[:1]]\n",
    "try:\n",
    "    dataset = sima.ImagingDataset(sequences, 'example.sima')\n",
    "except:\n",
    "    dataset = sima.ImagingDataset.load('example.sima')\n"
   ]
  },
  {
   "cell_type": "markdown",
   "metadata": {},
   "source": [
    "Detect cells with sima"
   ]
  },
  {
   "cell_type": "code",
   "execution_count": null,
   "metadata": {
    "collapsed": false
   },
   "outputs": [],
   "source": [
    "stica_approach = sima.segment.STICA(components=3)\n",
    "stica_approach.append(sima.segment.SparseROIsFromMasks())\n",
    "stica_approach.append(sima.segment.SmoothROIBoundaries())\n",
    "stica_approach.append(sima.segment.MergeOverlapping(threshold=0.5))\n",
    "rois = dataset.segment(stica_approach, 'auto_ROIs')"
   ]
  },
  {
   "cell_type": "markdown",
   "metadata": {},
   "source": [
    "Show detected cells"
   ]
  },
  {
   "cell_type": "code",
   "execution_count": null,
   "metadata": {
    "collapsed": false,
    "scrolled": false
   },
   "outputs": [],
   "source": [
    "fig = hv.Overlay()\n",
    "for i in range(len(rois)):\n",
    "    fig*=hv.Curve(rois[i].coords[0][:,1::-1])\n",
    "fig"
   ]
  },
  {
   "cell_type": "markdown",
   "metadata": {},
   "source": [
    "Use FISSA with SIMA detected cells\n",
    "\n",
    "FISSA needs either ImageJ ROIs or numpy arrays as inputs for the ROIs. \n",
    "\n",
    "SIMA outputs ROIs as numpy arrays, and can be directly read into FISSA.\n",
    "A given roi is given as\n",
    "\n",
    "```\n",
    "rois[i].coords[0][:,:2].shape\n",
    "```\n",
    "\n",
    "SIMA expects a set of rois to be given as a list of lists\n",
    "\n",
    "```\n",
    "[[roiA1,roiA2,roiA3...]]\n",
    "```\n",
    "So some formatting will need to be done first."
   ]
  },
  {
   "cell_type": "code",
   "execution_count": null,
   "metadata": {
    "collapsed": true
   },
   "outputs": [],
   "source": [
    "numROI = len(rois)\n",
    "rois_FISSA = [rois[i].coords[0][:,:2] for i in range(numROI)]"
   ]
  },
  {
   "cell_type": "markdown",
   "metadata": {},
   "source": [
    "Which can then be put into FISSA and run"
   ]
  },
  {
   "cell_type": "code",
   "execution_count": null,
   "metadata": {
    "collapsed": false
   },
   "outputs": [],
   "source": [
    "exp = fissa.Experiment(folder,[rois_FISSA])\n",
    "exp.separate()"
   ]
  },
  {
   "cell_type": "markdown",
   "metadata": {},
   "source": [
    "And some plotting to show what it did"
   ]
  },
  {
   "cell_type": "code",
   "execution_count": null,
   "metadata": {
    "collapsed": false
   },
   "outputs": [],
   "source": [
    "%%opts Curve {+axiswise}\n",
    "# function for a single cell region plot\n",
    "def plot_cell_regions(cell):\n",
    "    out = hv.Overlay()\n",
    "    numReg = len(exp.roi_polys[cell,0]) # Number of regions\n",
    "    for i in range(numReg):\n",
    "        out *= hv.Curve(exp.roi_polys[cell,0][i][0])\n",
    "    return out\n",
    "\n",
    "# get plots for all detected regions\n",
    "region_plots = {i : plot_cell_regions(i) for i in range(exp.nCell)}\n",
    "\n",
    "# get plots for raw extracts and neuropil removed\n",
    "traces_plots = {i : hv.Curve(exp.raw[i,1][0,:])*hv.Curve(exp.matched[i,1][0,:]) for i in range(exp.nCell)}\n",
    "\n",
    "hv.HoloMap(region_plots,kdims=['Cell'])*fig+hv.HoloMap(traces_plots,kdims=['Cell'])"
   ]
  }
 ],
 "metadata": {
  "kernelspec": {
   "display_name": "Python 2",
   "language": "python",
   "name": "python2"
  },
  "language_info": {
   "codemirror_mode": {
    "name": "ipython",
    "version": 2
   },
   "file_extension": ".py",
   "mimetype": "text/x-python",
   "name": "python",
   "nbconvert_exporter": "python",
   "pygments_lexer": "ipython2",
   "version": "2.7.10"
  }
 },
 "nbformat": 4,
 "nbformat_minor": 0
}
